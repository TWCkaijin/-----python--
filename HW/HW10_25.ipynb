{
 "cells": [
  {
   "cell_type": "markdown",
   "metadata": {},
   "source": [
    "# HW 10/25~11/8 作業"
   ]
  },
  {
   "cell_type": "markdown",
   "metadata": {},
   "source": [
    "#### 前情提要: random的使用"
   ]
  },
  {
   "cell_type": "code",
   "execution_count": null,
   "metadata": {},
   "outputs": [],
   "source": [
    "import random \n",
    "\n",
    "x = random.randint(1, 100) # 1~100 的整數亂數\n",
    "print(x)"
   ]
  },
  {
   "cell_type": "markdown",
   "metadata": {},
   "source": [
    "## 題目: 猜數字遊戲"
   ]
  },
  {
   "cell_type": "markdown",
   "metadata": {},
   "source": [
    "##### 猜數字遊的流程如下:\n",
    "##### 1.程式會生成一個亂數 X ，這個亂數X就是要使用者猜的數字\n",
    "##### 2.程式會印出:「請輸入數字」，並且讀取使用者輸入的數字(只會有一個數字N，0<=N<=100)\n",
    "##### 3.程式會將與使用者輸入的數字相對於解答相同邊的邊界該改為使用者輸入(例如: 答案是5，使用者第一次猜6，就要在第二次猜測前提示使用者區間為1~6)\n",
    "##### 4.持續動作，直到使用者猜到數字。猜到後輸出\"恭喜猜對\"，並結束程式\n",
    "\n",
    "> 架構提示: 使用while迴圈來判斷是否猜中。<br/>\n",
    "> 區間判斷提示: 初始化左值與右值為最大最小，當輸入的猜測值小於正確答案時，左值移動到猜測值。"
   ]
  },
  {
   "cell_type": "code",
   "execution_count": null,
   "metadata": {},
   "outputs": [],
   "source": []
  }
 ],
 "metadata": {
  "kernelspec": {
   "display_name": "gdsc_course",
   "language": "python",
   "name": "python3"
  },
  "language_info": {
   "codemirror_mode": {
    "name": "ipython",
    "version": 3
   },
   "file_extension": ".py",
   "mimetype": "text/x-python",
   "name": "python",
   "nbconvert_exporter": "python",
   "pygments_lexer": "ipython3",
   "version": "3.12.4"
  }
 },
 "nbformat": 4,
 "nbformat_minor": 2
}
