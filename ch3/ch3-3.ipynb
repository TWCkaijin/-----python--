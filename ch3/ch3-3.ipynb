{
 "cells": [
  {
   "cell_type": "markdown",
   "metadata": {},
   "source": [
    "# Ch3-3 三元運算符"
   ]
  },
  {
   "cell_type": "code",
   "execution_count": null,
   "metadata": {},
   "outputs": [],
   "source": [
    "#簡單的展示一下\n",
    "\n",
    "x = 1\n",
    "y = 2\n",
    "\n",
    "biggest = x if x > y else y\n",
    "print(biggest)"
   ]
  },
  {
   "cell_type": "code",
   "execution_count": null,
   "metadata": {},
   "outputs": [],
   "source": [
    "#回想一下，這兩個程式碼是等價的\n",
    "x = 1\n",
    "y = 2\n",
    "\n",
    "if x > y:\n",
    "    biggest = x\n",
    "else:\n",
    "    biggest = y\n",
    "\n",
    "print(biggest)\n",
    "\n",
    "\n",
    "#也就是說，在只有一個條件，且剩下的狀況視為else的情況下，可以使用三元運算子\n",
    "#但是如果有多個條件，就要來編織魔法了"
   ]
  },
  {
   "cell_type": "code",
   "execution_count": null,
   "metadata": {},
   "outputs": [],
   "source": [
    "x = 1\n",
    "y = 2\n",
    "z = 3\n",
    "\n",
    "biggest = x if x > y and x > z else (y if y > z else z)\n",
    "#這裡先將y和z比較，如果y比z大，就回傳y，否則回傳z\n",
    "#之後再把y和z之中比較大的和x比較，如果x比較大，就回傳x，否則回傳y或z\n",
    "#MAGIC~~\n",
    "print(biggest)"
   ]
  },
  {
   "cell_type": "code",
   "execution_count": null,
   "metadata": {},
   "outputs": [],
   "source": []
  }
 ],
 "metadata": {
  "kernelspec": {
   "display_name": "data_mining",
   "language": "python",
   "name": "python3"
  },
  "language_info": {
   "codemirror_mode": {
    "name": "ipython",
    "version": 3
   },
   "file_extension": ".py",
   "mimetype": "text/x-python",
   "name": "python",
   "nbconvert_exporter": "python",
   "pygments_lexer": "ipython3",
   "version": "3.10.14"
  }
 },
 "nbformat": 4,
 "nbformat_minor": 2
}
