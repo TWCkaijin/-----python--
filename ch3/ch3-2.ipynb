{
 "cells": [
  {
   "cell_type": "markdown",
   "metadata": {},
   "source": [
    "# Ch3-2 if 條件式"
   ]
  },
  {
   "cell_type": "code",
   "execution_count": null,
   "metadata": {},
   "outputs": [],
   "source": [
    "if (True):   # True 是\"真\"的意思，而if中的條件為\"真\"實就會執行下面的程式碼\n",
    "    print('True')   # 印出True"
   ]
  },
  {
   "cell_type": "code",
   "execution_count": null,
   "metadata": {},
   "outputs": [],
   "source": [
    "if (False):  # False 是\"假\"的意思，而if中的條件為\"假\"實就不會執行下面的程式碼\n",
    "    print('False') # 永遠不會印出False\n",
    "else:        # else 是\"否則\"的意思，當上面的if條件都不成立時，就會執行下面的程式碼\n",
    "    print('True')  # 印出True"
   ]
  },
  {
   "cell_type": "code",
   "execution_count": null,
   "metadata": {},
   "outputs": [],
   "source": [
    "x = 12\n",
    "y = 10\n",
    "if(x>y):  # 如果x>y，if 的條件就會是真，就會執行if 下面的程式碼\n",
    "    print(x,'>',y)\n",
    "else:     # 如果x<y，if 的條件就會是假，就會執行else 下面的程式碼\n",
    "    print(x,'<',y)"
   ]
  },
  {
   "cell_type": "code",
   "execution_count": null,
   "metadata": {},
   "outputs": [],
   "source": [
    "x = 12\n",
    "y = 10\n",
    "z = 8\n",
    "\n",
    "if(x>y and x>z):  # 如果x>y \"和\" x>z 都成立，if 的條件就會是真，就會執行if 下面的程式碼\n",
    "    print(x,'>',y,'且',x,'>',z)\n",
    "elif(x<y and x>z): # elif 是\"否則如果\"的意思，如果if的條件是假，且x<y \"和\" x>z 都成立，elif 的條件就會是真，就會執行elif 下面的程式碼\n",
    "    print(x,'<',y,'且',x,'>',z)"
   ]
  },
  {
   "cell_type": "code",
   "execution_count": null,
   "metadata": {},
   "outputs": [],
   "source": [
    "#下面兩個的不同之處\n",
    "\n",
    "x = 12\n",
    "y = 10\n",
    "z = 8\n",
    "\n",
    "\n",
    "# 1. 這個是用if elif else的方式\n",
    "print(\"if elif else的方式\")\n",
    "if(x>y):\n",
    "    print(x,'>',y)\n",
    "elif(x>z):\n",
    "    print(x,'>',z)\n",
    "elif(y>z):\n",
    "    print(y,'>',z)\n",
    "else:\n",
    "    print(z,'>',x,y)\n",
    "\n",
    "\n",
    "print(\"\\nif 的方式\")\n",
    "#2. 這個是用if的方式\n",
    "if(x>y):\n",
    "    print(x,'>',y)\n",
    "if(x>z):\n",
    "    print(x,'>',z)\n",
    "if(y>z):\n",
    "    print(y,'>',z)\n",
    "\n",
    "\n",
    "#if elif else的方式，會由上至下找到符合的結果，並執行該結果\n",
    "#而if的方式，每個if都會執行一次\"如果\"的判斷及其結果，所以會有多個結果"
   ]
  },
  {
   "cell_type": "code",
   "execution_count": null,
   "metadata": {},
   "outputs": [],
   "source": []
  }
 ],
 "metadata": {
  "kernelspec": {
   "display_name": "data_mining",
   "language": "python",
   "name": "python3"
  },
  "language_info": {
   "codemirror_mode": {
    "name": "ipython",
    "version": 3
   },
   "file_extension": ".py",
   "mimetype": "text/x-python",
   "name": "python",
   "nbconvert_exporter": "python",
   "pygments_lexer": "ipython3",
   "version": "3.8.18"
  }
 },
 "nbformat": 4,
 "nbformat_minor": 2
}
