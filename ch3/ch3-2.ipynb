{
 "cells": [
  {
   "cell_type": "markdown",
   "metadata": {},
   "source": [
    "# Ch3-2 if 條件式"
   ]
  },
  {
   "cell_type": "markdown",
   "metadata": {},
   "source": [
    "接下來，我們要講關於\"如果...，那就...\"的城市判斷方法\n",
    "我們會大致分成三種\n",
    "1. If條件式\n",
    "2. If-else條件式\n",
    "3. If-elif-else條件式\n",
    "\n",
    "if條件式的架構大致長這樣子\n",
    "```python\n",
    "if 條件:\n",
    "....執行的程式碼\n",
    "```\n",
    "> 要特別注意，執行動作這部分的程式碼我們稱作\"縮排區塊程式碼\"，通常是按一個tab(也就是四個空格)"
   ]
  },
  {
   "cell_type": "markdown",
   "metadata": {},
   "source": [
    "#### 1. If條件式\n",
    "```python\n",
    "if 條件:\n",
    "....執行動作\n",
    "```\n",
    "如果條件成立，就會執行動作\n"
   ]
  },
  {
   "cell_type": "code",
   "execution_count": null,
   "metadata": {},
   "outputs": [],
   "source": [
    "if (True):   # True 是\"真\"的意思，而if中的條件為\"真\"實就會執行下面的程式碼\n",
    "    print('True')   # 印出True"
   ]
  },
  {
   "cell_type": "code",
   "execution_count": 1,
   "metadata": {},
   "outputs": [],
   "source": [
    "x = 5\n",
    "y = 10\n",
    "if(x==y):\n",
    "    print(\"兩數相等\")"
   ]
  },
  {
   "cell_type": "markdown",
   "metadata": {},
   "source": [
    "#### 2. If-else條件式\n",
    "```python\n",
    "if 條件:\n",
    "....執行動作1\n",
    "else:\n",
    "....執行動作2\n",
    "```\n",
    "如果條件成立，則執行動作1，否則執行動作2"
   ]
  },
  {
   "cell_type": "code",
   "execution_count": null,
   "metadata": {},
   "outputs": [],
   "source": [
    "if (False):  # False 是\"假\"的意思，而if中的條件為\"假\"實就不會執行下面的程式碼\n",
    "    print('False') # 永遠不會印出False\n",
    "else:        # else 是\"否則\"的意思，當上面的if條件都不成立時，就會執行下面的程式碼\n",
    "    print('True')  # 印出True"
   ]
  },
  {
   "cell_type": "code",
   "execution_count": 2,
   "metadata": {},
   "outputs": [
    {
     "name": "stdout",
     "output_type": "stream",
     "text": [
      "x,y 不相等\n"
     ]
    }
   ],
   "source": [
    "x = 12\n",
    "y = 10\n",
    "if(x==y):\n",
    "    print(\"x,y 相等\")\n",
    "else:     # 如果x<y，if 的條件就會是假，就會執行else 下面的程式碼\n",
    "    print(\"x,y 不相等\")"
   ]
  },
  {
   "cell_type": "markdown",
   "metadata": {},
   "source": [
    "運用一些上一節課學到的運算子的知識:"
   ]
  },
  {
   "cell_type": "code",
   "execution_count": null,
   "metadata": {},
   "outputs": [],
   "source": [
    "x = 12\n",
    "y = 10\n",
    "z = 8\n",
    "\n",
    "if(x>y and x>z):  # 如果x>y \"和\" x>z 都成立，if 的條件就會是真，就會執行if 下面的程式碼\n",
    "    print(x,'>',y,'且',x,'>',z)\n",
    "elif(x<y and x>z): # elif 是\"否則如果\"的意思，如果if的條件是假，且x<y \"和\" x>z 都成立，elif 的條件就會是真，就會執行elif 下面的程式碼\n",
    "    print(x,'<',y,'且',x,'>',z)"
   ]
  },
  {
   "cell_type": "code",
   "execution_count": null,
   "metadata": {},
   "outputs": [],
   "source": [
    "#下面兩個的不同之處\n",
    "\n",
    "x = 12\n",
    "y = 10\n",
    "z = 8\n",
    "\n",
    "\n",
    "# 1. 這個是用if elif else的方式\n",
    "print(\"if elif else的方式\")\n",
    "if(x>y):\n",
    "    print(x,'>',y)\n",
    "elif(x>z):\n",
    "    print(x,'>',z)\n",
    "elif(y>z):\n",
    "    print(y,'>',z)\n",
    "else:\n",
    "    print(z,'>',x,y)\n",
    "\n",
    "\n",
    "print(\"\\nif 的方式\")\n",
    "#2. 這個是用if的方式\n",
    "if(x>y):\n",
    "    print(x,'>',y)\n",
    "if(x>z):\n",
    "    print(x,'>',z)\n",
    "if(y>z):\n",
    "    print(y,'>',z)\n",
    "\n",
    "\n",
    "#if elif else的方式，會由上至下找到符合的結果，並執行該結果\n",
    "#而if的方式，每個if都會執行一次\"如果\"的判斷及其結果，所以會有多個結果"
   ]
  },
  {
   "cell_type": "code",
   "execution_count": null,
   "metadata": {},
   "outputs": [],
   "source": []
  }
 ],
 "metadata": {
  "kernelspec": {
   "display_name": "base",
   "language": "python",
   "name": "python3"
  },
  "language_info": {
   "codemirror_mode": {
    "name": "ipython",
    "version": 3
   },
   "file_extension": ".py",
   "mimetype": "text/x-python",
   "name": "python",
   "nbconvert_exporter": "python",
   "pygments_lexer": "ipython3",
   "version": "3.10.9"
  }
 },
 "nbformat": 4,
 "nbformat_minor": 2
}
