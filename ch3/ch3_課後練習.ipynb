{
 "cells": [
  {
   "cell_type": "markdown",
   "metadata": {},
   "source": [
    "### 使用運算子來測試x和y\n",
    "\n",
    "1. x,y 是偶數還是整數\n",
    "2. x 是不是 y 的倍數\n",
    "3. x 的 y 次方 除以 y 的餘數是多少?\n",
    "4. 用三元運算符表達\"x>y 且 x除以y 的餘數大於y的一半是不是真?\"\n"
   ]
  },
  {
   "cell_type": "code",
   "execution_count": null,
   "metadata": {},
   "outputs": [],
   "source": [
    "x = 47\n",
    "y = 23\n",
    "\n"
   ]
  }
 ],
 "metadata": {
  "language_info": {
   "name": "python"
  }
 },
 "nbformat": 4,
 "nbformat_minor": 2
}
