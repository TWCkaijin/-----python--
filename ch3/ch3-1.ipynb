{
 "cells": [
  {
   "cell_type": "markdown",
   "metadata": {},
   "source": [
    "# Ch3-1 運算子(operator)"
   ]
  },
  {
   "cell_type": "code",
   "execution_count": 1,
   "metadata": {},
   "outputs": [
    {
     "name": "stdout",
     "output_type": "stream",
     "text": [
      "True\n",
      "False\n",
      "True\n",
      "False\n",
      "False\n",
      "True\n"
     ]
    }
   ],
   "source": [
    "# < , > , <= , >= , == , !=\n",
    "print (5 < 10)\n",
    "print (5 > 10)\n",
    "print (5 <= 10)\n",
    "print (5 >= 10)\n",
    "print (5 == 10)\n",
    "print (5 != 10)\n",
    "\n"
   ]
  },
  {
   "cell_type": "code",
   "execution_count": 11,
   "metadata": {},
   "outputs": [
    {
     "name": "stdout",
     "output_type": "stream",
     "text": [
      "True\n",
      "False\n",
      "False\n",
      "\n",
      "True\n",
      "True\n",
      "False\n",
      "\n",
      "True\n",
      "False\n"
     ]
    }
   ],
   "source": [
    "# and , or , not , in\n",
    "print( True and True)\n",
    "print( True and False)\n",
    "print( False and False)\n",
    "\n",
    "print(\"\")\n",
    "\n",
    "print( True or True)\n",
    "print( True or False)\n",
    "print( False or False)\n",
    "\n",
    "print()\n",
    "\n",
    "print(True and not False)\n",
    "print(not True and False)\n"
   ]
  },
  {
   "cell_type": "code",
   "execution_count": 2,
   "metadata": {},
   "outputs": [
    {
     "name": "stdout",
     "output_type": "stream",
     "text": [
      "2\n",
      "1\n",
      "4\n",
      "4.0\n",
      "1\n",
      "8\n",
      "2\n"
     ]
    }
   ],
   "source": [
    "# + , - , * , / , % , ** , //\n",
    "x = 1+1\n",
    "print(x)\n",
    "\n",
    "y = 2-1\n",
    "print(y)\n",
    "\n",
    "z = 2*2\n",
    "print(z)\n",
    "\n",
    "a = 4/2\n",
    "print(a)\n",
    "\n",
    "b = 5%2\n",
    "print(b)\n",
    "\n",
    "c = 2**3\n",
    "print(c)\n",
    "\n",
    "d = 5//2\n",
    "print(d)"
   ]
  },
  {
   "cell_type": "code",
   "execution_count": null,
   "metadata": {},
   "outputs": [],
   "source": []
  }
 ],
 "metadata": {
  "kernelspec": {
   "display_name": "data_mining",
   "language": "python",
   "name": "python3"
  },
  "language_info": {
   "codemirror_mode": {
    "name": "ipython",
    "version": 3
   },
   "file_extension": ".py",
   "mimetype": "text/x-python",
   "name": "python",
   "nbconvert_exporter": "python",
   "pygments_lexer": "ipython3",
   "version": "3.8.18"
  }
 },
 "nbformat": 4,
 "nbformat_minor": 2
}
