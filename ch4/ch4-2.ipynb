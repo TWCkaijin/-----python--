{
 "cells": [
  {
   "cell_type": "markdown",
   "metadata": {},
   "source": [
    "# Ch4-2 For loop"
   ]
  },
  {
   "cell_type": "code",
   "execution_count": null,
   "metadata": {},
   "outputs": [],
   "source": [
    "for i in range(5):  #用for迴圈來走訪range(注意，range(5)是0到4)\n",
    "    print(i)"
   ]
  },
  {
   "cell_type": "code",
   "execution_count": null,
   "metadata": {},
   "outputs": [],
   "source": [
    "for i in range(5,10): #如果想要走訪5~9，可以用range(5,10)，注意10是不包含的\n",
    "    print(i)"
   ]
  },
  {
   "cell_type": "code",
   "execution_count": null,
   "metadata": {},
   "outputs": [],
   "source": [
    "for i in range(20,0,-2): #如果想要走訪20到2的偶數，必須要在後面加上-2，表示遞減2\n",
    "    print(i)"
   ]
  },
  {
   "cell_type": "code",
   "execution_count": null,
   "metadata": {},
   "outputs": [],
   "source": [
    "x = [1,2,3,4]  #先定義一個list\n",
    "\n",
    "for i in x:  #用for迴圈來走訪list\n",
    "    print(i)"
   ]
  },
  {
   "cell_type": "code",
   "execution_count": null,
   "metadata": {},
   "outputs": [],
   "source": [
    "x = [\"apple\",\"banana\",\"orange\"]  #定義一個字串list\n",
    "\n",
    "for i in x:  #用for迴圈來走訪字串list\n",
    "    print(i)"
   ]
  },
  {
   "cell_type": "code",
   "execution_count": null,
   "metadata": {},
   "outputs": [],
   "source": [
    "# tuple 在迴圈中的使用\n",
    "x = [(1,'a'),(2,'b'),(3,'c')]  #定義一個元素為tuple的list \n",
    "\n",
    "for num , char in x:  #用zip()來將tuple中的元素一一對應\n",
    "    print(num,char)"
   ]
  },
  {
   "cell_type": "code",
   "execution_count": null,
   "metadata": {},
   "outputs": [],
   "source": [
    "# zip()的使用\n",
    "x = [1,2,3]\n",
    "y = ['a','b','c']\n",
    "for i,j in zip(x,y):  #zip()可以將兩個list中的元素一一對應\n",
    "    print(i,j)\n",
    "\n",
    "for i in zip(x,y):  #如果只有一個變數，則會將兩個list中的元素一一對應成tuple\n",
    "    print(i)"
   ]
  },
  {
   "cell_type": "markdown",
   "metadata": {},
   "source": [
    "### 練習\n"
   ]
  },
  {
   "cell_type": "markdown",
   "metadata": {},
   "source": [
    "### 1.請印出下面的圖形\n",
    "<br>*\n",
    "<br>**\n",
    "<br>***\n",
    "<br>****\n",
    "<br>*****"
   ]
  },
  {
   "cell_type": "code",
   "execution_count": null,
   "metadata": {},
   "outputs": [],
   "source": [
    "for j in range(1,6):\n",
    "    print(\"*\"*j)"
   ]
  },
  {
   "cell_type": "markdown",
   "metadata": {},
   "source": [
    "### 2.請印出下面圖形\n",
    "<br>*\n",
    "<br>**\n",
    "<br>***\n",
    "<br>****\n",
    "<br>*****\n",
    "<br>****\n",
    "<br>***\n",
    "<br>**\n",
    "<br>*"
   ]
  },
  {
   "cell_type": "code",
   "execution_count": null,
   "metadata": {},
   "outputs": [],
   "source": [
    "for j in range(1,6):      #[1,2,3,4,5]\n",
    "    print(\"*\"*j)\n",
    "for j in range(4,0,-1):   #[4,3,2,1]\n",
    "    print(\"*\"*j)"
   ]
  },
  {
   "cell_type": "markdown",
   "metadata": {},
   "source": [
    "### 3.印出99乘法表"
   ]
  },
  {
   "cell_type": "code",
   "execution_count": null,
   "metadata": {},
   "outputs": [],
   "source": [
    "for i in range(1,10):\n",
    "    for j in range(1,10):\n",
    "        print(i*j,end=\" \")  #print(f'{i*j:<3}',end=\" \")\n",
    "    print(\"\")"
   ]
  }
 ],
 "metadata": {
  "kernelspec": {
   "display_name": "base",
   "language": "python",
   "name": "python3"
  },
  "language_info": {
   "codemirror_mode": {
    "name": "ipython",
    "version": 3
   },
   "file_extension": ".py",
   "mimetype": "text/x-python",
   "name": "python",
   "nbconvert_exporter": "python",
   "pygments_lexer": "ipython3",
   "version": "3.10.14"
  }
 },
 "nbformat": 4,
 "nbformat_minor": 2
}
