{
 "cells": [
  {
   "cell_type": "markdown",
   "metadata": {},
   "source": [
    "# Ch4-1 While loop"
   ]
  },
  {
   "cell_type": "markdown",
   "metadata": {},
   "source": [
    "#### 基本定義"
   ]
  },
  {
   "cell_type": "code",
   "execution_count": null,
   "metadata": {},
   "outputs": [],
   "source": [
    "x = 0\n",
    "while x<10:  # 當X<10時，就會一直執行縮排裡面的程式碼\n",
    "    print(x)\n",
    "    x+=1"
   ]
  },
  {
   "cell_type": "code",
   "execution_count": null,
   "metadata": {},
   "outputs": [],
   "source": [
    "x = 0\n",
    "while x != 10:  # X!=10時，就會一直執行縮排裡面的程式碼\n",
    "    print(x)\n",
    "    x+=1"
   ]
  },
  {
   "cell_type": "code",
   "execution_count": null,
   "metadata": {},
   "outputs": [],
   "source": [
    "x = 0\n",
    "while x != -1:  # 當裡面的條件成立時，就會一直執行縮排裡面的程式碼 ，特別小心這種潛在的窮迴圈\n",
    "    print(x)\n",
    "    x+=1"
   ]
  },
  {
   "cell_type": "code",
   "execution_count": null,
   "metadata": {},
   "outputs": [],
   "source": [
    "x  = 0\n",
    "while True:  #危險! 這是100%的無窮迴圈，很有可能讓你的程式當機(但當然，這種用法也用他的用途)\n",
    "    print(x)\n",
    "    x += 1"
   ]
  },
  {
   "cell_type": "code",
   "execution_count": null,
   "metadata": {},
   "outputs": [],
   "source": [
    "x = 5\n",
    "while x != int(input('enter a number')):\n",
    "    print(\"Wrong ans\")"
   ]
  },
  {
   "cell_type": "code",
   "execution_count": null,
   "metadata": {},
   "outputs": [],
   "source": [
    "x = input('enter a string')\n",
    "\n",
    "while (x != 'q' and x != 'Q'):\n",
    "    print(f\"Continue the work {x}\")\n",
    "    x = input('enter a string')\n",
    "\n",
    "print(\"Quit\")"
   ]
  },
  {
   "cell_type": "markdown",
   "metadata": {},
   "source": [
    "#### 基本的複合操作"
   ]
  },
  {
   "cell_type": "code",
   "execution_count": null,
   "metadata": {},
   "outputs": [],
   "source": [
    "x = 0\n",
    "while True: # 無窮迴圈\n",
    "    print(x)\n",
    "    x+=1\n",
    "    if x>20: # 當條件成立時，就會\"Break\"跳出最接近的迴圈\n",
    "        break"
   ]
  },
  {
   "cell_type": "code",
   "execution_count": null,
   "metadata": {},
   "outputs": [],
   "source": [
    "x = 0\n",
    "y = 0\n",
    "while x<20: # 無窮迴圈\n",
    "    x+=1\n",
    "    while(y<=20):\n",
    "        print(f'x={x} || y={y}')\n",
    "        y+=1\n"
   ]
  },
  {
   "cell_type": "code",
   "execution_count": null,
   "metadata": {},
   "outputs": [],
   "source": [
    "x = 0\n",
    "y = 0\n",
    "while True: # 無窮迴圈\n",
    "    x+=1\n",
    "    \n",
    "    while True:\n",
    "        print(f'x={x} || y={y}')\n",
    "        y+=1\n",
    "        if y>20:\n",
    "            break\n",
    "\n",
    "    if x >20:\n",
    "        break"
   ]
  },
  {
   "cell_type": "markdown",
   "metadata": {},
   "source": [
    "#### 簡單的複合操作"
   ]
  },
  {
   "cell_type": "code",
   "execution_count": null,
   "metadata": {},
   "outputs": [],
   "source": [
    "#單一while迴圈 印出1~100的奇數\n",
    "x = 0\n",
    "while x<100:\n",
    "    x+=1\n",
    "    if x%2!=0:\n",
    "        print(x)"
   ]
  },
  {
   "cell_type": "code",
   "execution_count": null,
   "metadata": {},
   "outputs": [],
   "source": [
    "#雙重while迴圈 印出九九乘法表\n",
    "\n",
    "x= 1\n",
    "while x<10:\n",
    "    y = 1\n",
    "    while y<10:\n",
    "        print(x*y,end=\" \")       #print(f'{x*y:<3}',end=\" \")\n",
    "        y+=1\n",
    "    x+=1\n",
    "    print(\"\")"
   ]
  },
  {
   "cell_type": "markdown",
   "metadata": {},
   "source": [
    "### 邏輯思考練習題"
   ]
  },
  {
   "cell_type": "markdown",
   "metadata": {},
   "source": [
    "##### 1.請印出下面的圖形\n",
    "<br>*\n",
    "<br>**\n",
    "<br>***\n",
    "<br>****\n",
    "<br>*****"
   ]
  },
  {
   "cell_type": "code",
   "execution_count": null,
   "metadata": {},
   "outputs": [],
   "source": [
    "#請使用while迴圈\n",
    "x = 1\n",
    "while x <=5:\n",
    "    print('*'*x)\n",
    "    x+=1\n"
   ]
  },
  {
   "cell_type": "markdown",
   "metadata": {},
   "source": [
    "##### 2.請印出下面的圖形\n",
    "<br>*\n",
    "<br>**\n",
    "<br>***\n",
    "<br>****\n",
    "<br>*****\n",
    "<br>****\n",
    "<br>***\n",
    "<br>**\n",
    "<br>*"
   ]
  },
  {
   "cell_type": "code",
   "execution_count": null,
   "metadata": {},
   "outputs": [],
   "source": [
    "#請使用while迴圈\n",
    "x = 0\n",
    "while x <5:\n",
    "    x+=1\n",
    "    print('*'*x)\n",
    "    \n",
    "while x >=1:\n",
    "    x-=1\n",
    "    print('*'*x)\n",
    "    \n"
   ]
  },
  {
   "cell_type": "code",
   "execution_count": null,
   "metadata": {},
   "outputs": [],
   "source": [
    "#請使用while迴圈\n",
    "x = 1\n",
    "flag = 1\n",
    "while x>0:\n",
    "    if(x>4):\n",
    "        flag = -1\n",
    "    print('*'*x)\n",
    "    x+=flag\n",
    "    "
   ]
  },
  {
   "cell_type": "code",
   "execution_count": null,
   "metadata": {},
   "outputs": [],
   "source": []
  }
 ],
 "metadata": {
  "kernelspec": {
   "display_name": "base",
   "language": "python",
   "name": "python3"
  },
  "language_info": {
   "codemirror_mode": {
    "name": "ipython",
    "version": 3
   },
   "file_extension": ".py",
   "mimetype": "text/x-python",
   "name": "python",
   "nbconvert_exporter": "python",
   "pygments_lexer": "ipython3",
   "version": "3.10.9"
  }
 },
 "nbformat": 4,
 "nbformat_minor": 2
}
