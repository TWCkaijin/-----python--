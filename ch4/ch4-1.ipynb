{
 "cells": [
  {
   "cell_type": "markdown",
   "metadata": {},
   "source": [
    "# Ch4-1 While loop"
   ]
  },
  {
   "cell_type": "code",
   "execution_count": null,
   "metadata": {},
   "outputs": [],
   "source": [
    "x = 0\n",
    "while x<10:  # 當裡面的條件成立時，就會一直執行裡面的程式碼\n",
    "    print(x)\n",
    "    x+=1"
   ]
  },
  {
   "cell_type": "code",
   "execution_count": null,
   "metadata": {},
   "outputs": [],
   "source": [
    "x = 0\n",
    "while True: # 無窮迴圈\n",
    "    print(x)\n",
    "    x+=1\n",
    "    if x>20: # 當條件成立時，就會\"Break\"跳出最接近的迴圈\n",
    "        break"
   ]
  },
  {
   "cell_type": "code",
   "execution_count": null,
   "metadata": {},
   "outputs": [],
   "source": [
    "#單一while迴圈 印出1~100的奇數\n",
    "x = 0\n",
    "while x<100:\n",
    "    x+=1\n",
    "    if x%2!=0: # 當條件成立時，就會\"continue\"跳過這次的迴圈，繼續下一次的迴圈\n",
    "        print(x)"
   ]
  },
  {
   "cell_type": "code",
   "execution_count": null,
   "metadata": {},
   "outputs": [],
   "source": [
    "#雙重while迴圈 印出九九乘法表\n",
    "\n",
    "x= 1\n",
    "while x<10:\n",
    "    y = 1\n",
    "    while y<10:\n",
    "        print(x*y,end=\" \")       #print(f'{x*y:<3}',end=\" \")\n",
    "        y+=1\n",
    "    x+=1\n",
    "    print(\"\")"
   ]
  },
  {
   "cell_type": "markdown",
   "metadata": {},
   "source": [
    "### 練習\n",
    "請印出下面的圖形\n",
    "\n",
    "<br>*\n",
    "<br>**\n",
    "<br>***\n",
    "<br>****\n",
    "<br>*****"
   ]
  },
  {
   "cell_type": "code",
   "execution_count": null,
   "metadata": {},
   "outputs": [],
   "source": [
    "#請使用while迴圈"
   ]
  }
 ],
 "metadata": {
  "kernelspec": {
   "display_name": "base",
   "language": "python",
   "name": "python3"
  },
  "language_info": {
   "codemirror_mode": {
    "name": "ipython",
    "version": 3
   },
   "file_extension": ".py",
   "mimetype": "text/x-python",
   "name": "python",
   "nbconvert_exporter": "python",
   "pygments_lexer": "ipython3",
   "version": "3.10.14"
  }
 },
 "nbformat": 4,
 "nbformat_minor": 2
}
