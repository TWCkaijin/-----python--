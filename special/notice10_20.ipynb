{
 "cells": [
  {
   "cell_type": "markdown",
   "metadata": {},
   "source": [
    "# 作業說明 10/18 ~ 10/24\n",
    "\n",
    "##### 因為發現上課沒有提到，但是作業必須用到，所發了這個Notice"
   ]
  },
  {
   "cell_type": "markdown",
   "metadata": {},
   "source": [
    "#### 1-1.該如何將一個以空格分開的字串(\"1 2\")變成兩個元素(\"1\",\"2\")"
   ]
  },
  {
   "cell_type": "code",
   "execution_count": 5,
   "metadata": {},
   "outputs": [
    {
     "name": "stdout",
     "output_type": "stream",
     "text": [
      "初始字串:20 25\n",
      "切割後的字串:['20', '25']\n"
     ]
    }
   ],
   "source": [
    "#先從簡單的input開始\n",
    "\n",
    "input_str = input(\"請輸入兩個數字，並使用空格隔開：\")\n",
    "print(f\"初始字串:{input_str}\")  #先看一下輸入的字串是什麼\n",
    "\n",
    "splitted_str = input_str.split(\" \")  #使用.split將輸入的字串以\"空格\"分割成list\n",
    "print(f\"切割後的字串:{splitted_str}\")  #看一下分割後的list是什麼\n"
   ]
  },
  {
   "cell_type": "markdown",
   "metadata": {},
   "source": [
    "#### 1-2.如果要以逗號\",\"分開字串?"
   ]
  },
  {
   "cell_type": "code",
   "execution_count": 6,
   "metadata": {},
   "outputs": [
    {
     "name": "stdout",
     "output_type": "stream",
     "text": [
      "初始字串:1,2\n",
      "切割後的字串:['1', '2']\n"
     ]
    }
   ],
   "source": [
    "input_str = input(\"請輸入兩個數字，並使用逗號隔開：\")\n",
    "print(f\"初始字串:{input_str}\")  #先看一下輸入的字串是什麼\n",
    "\n",
    "splitted_str = input_str.split(\",\")  #使用.split將輸入的字串以\",\"分割成list\n",
    "print(f\"切割後的字串:{splitted_str}\")  #看一下分割後的list是什麼"
   ]
  },
  {
   "cell_type": "markdown",
   "metadata": {},
   "source": [
    "#### 2-1.如何將string 型態轉型至int?"
   ]
  },
  {
   "cell_type": "code",
   "execution_count": 9,
   "metadata": {},
   "outputs": [
    {
     "name": "stdout",
     "output_type": "stream",
     "text": [
      "初始資料型態:<class 'str'>\n",
      "初始資料:10\n",
      "\n",
      "轉換後的資料型態:<class 'int'>\n",
      "更改後資料:10\n"
     ]
    }
   ],
   "source": [
    "input_str = input(\"請輸入一個數字:\")\n",
    "print(f\"初始資料型態:{type(input_str)}\\n初始資料:{input_str}\")  #先看一下輸入的型態是什麼 (還記得之前說input都會是字串嗎?)\n",
    "\n",
    "print() #跳行\n",
    "\n",
    "changed_input = int(input_str)  #將輸入的字串轉換成整數\n",
    "print(f\"轉換後的資料型態:{type(changed_input)}\\n更改後資料:{changed_input}\")  #看一下轉換後的型態是什麼"
   ]
  },
  {
   "cell_type": "markdown",
   "metadata": {},
   "source": [
    "#### 2-2.兩者資料型態差在哪?"
   ]
  },
  {
   "cell_type": "code",
   "execution_count": 11,
   "metadata": {},
   "outputs": [
    {
     "name": "stdout",
     "output_type": "stream",
     "text": [
      "相加結果: 12\n",
      "相加結果: 3\n"
     ]
    }
   ],
   "source": [
    "input_str = input(\"請輸入兩個數字，並使用逗號隔開：\")\n",
    "splitted_str = input_str.split(\",\") \n",
    "\n",
    "str1 = splitted_str[0]  #取出list中的第一個元素\n",
    "str2 = splitted_str[1]  #取出list中的第二個元素\n",
    "print(\"相加結果:\", str1 + str2)  #將兩個字串相加\n",
    "\n",
    "\n",
    "\n",
    "#將分割後的list中的元素轉換成整數\n",
    "num1 = int(splitted_str[0]) \n",
    "num2 = int(splitted_str[1])\n",
    "print(\"相加結果:\", num1 + num2)  #將兩個數字相加"
   ]
  },
  {
   "cell_type": "markdown",
   "metadata": {},
   "source": [
    "結果是:\n",
    "第一個是字串相加，他會將兩個字串接起來\n",
    "第二個是整數相加，就是我們常見的加法"
   ]
  }
 ],
 "metadata": {
  "kernelspec": {
   "display_name": "gdsc_course",
   "language": "python",
   "name": "python3"
  },
  "language_info": {
   "codemirror_mode": {
    "name": "ipython",
    "version": 3
   },
   "file_extension": ".py",
   "mimetype": "text/x-python",
   "name": "python",
   "nbconvert_exporter": "python",
   "pygments_lexer": "ipython3",
   "version": "3.12.4"
  }
 },
 "nbformat": 4,
 "nbformat_minor": 2
}
