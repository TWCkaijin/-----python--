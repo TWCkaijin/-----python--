{
 "cells": [
  {
   "cell_type": "code",
   "execution_count": null,
   "metadata": {},
   "outputs": [],
   "source": [
    "def permutation(arr , start , end):\n",
    "    if start == end:\n",
    "        print(arr)\n",
    "    else:\n",
    "        for i in range(start , end):\n",
    "            arr[i], arr[end-1] = arr[end-1], arr[i]\n",
    "            permutation(arr, start+1, end)\n",
    "            arr[i], arr[end-1] = arr[end-1], arr[i]\n",
    "\n",
    "\n",
    "array = [1,2,3]\n",
    "permutation(array, 0, 3)"
   ]
  }
 ],
 "metadata": {
  "language_info": {
   "name": "python"
  }
 },
 "nbformat": 4,
 "nbformat_minor": 2
}
