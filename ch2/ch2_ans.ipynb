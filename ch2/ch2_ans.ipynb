{
 "cells": [
  {
   "cell_type": "markdown",
   "metadata": {},
   "source": [
    "# Ch2 課後練習"
   ]
  },
  {
   "cell_type": "markdown",
   "metadata": {},
   "source": [
    "題目需求:\n",
    "1. 找到數字0的位置\n",
    "2. 請將array由小到大排序\n",
    "3. 只在陣列留下0~10的數字，並添加11和-1進入陣列 (要排序)\n",
    "4. 數出有幾個數字5\n",
    "\n",
    "\n",
    "輸出結果: <br/><br/>\n",
    "0 position:  9 <br/>\n",
    "sorted: [0, 1, 2, 2, 3, 3, 3, 4, 4, 4, 5, 5, 5, 6, 6, 7, 7, 8, 8, 9, 9, 10, 11, 52]<br/>\n",
    "inserted: [-1, 0, 1, 2, 2, 3, 3, 3, 4, 4, 4, 5, 5, 5, 6, 6, 7, 7, 8, 8, 9, 9, 10, 11, 11]<br/>\n",
    "number 5: 3"
   ]
  },
  {
   "cell_type": "code",
   "execution_count": null,
   "metadata": {},
   "outputs": [],
   "source": [
    "array = [5,4,8,6,3,1,7,11,2,0,5,8,3,4,6,4,7,2,9,3,5,52,9,10]\n",
    "\n",
    "print(\"0 position: \",array.index(0))\n",
    "array.sort()\n",
    "print(\"sorted:\",array)\n",
    "array.remove(52)\n",
    "array.append(11)\n",
    "array.insert(0,-1)\n",
    "print(\"inserted:\",array)\n",
    "print(\"number 5:\",array.count(5))\n",
    "\n",
    "\n"
   ]
  },
  {
   "cell_type": "code",
   "execution_count": null,
   "metadata": {},
   "outputs": [],
   "source": []
  }
 ],
 "metadata": {
  "kernelspec": {
   "display_name": "data_mining",
   "language": "python",
   "name": "python3"
  },
  "language_info": {
   "codemirror_mode": {
    "name": "ipython",
    "version": 3
   },
   "file_extension": ".py",
   "mimetype": "text/x-python",
   "name": "python",
   "nbconvert_exporter": "python",
   "pygments_lexer": "ipython3",
   "version": "3.8.18"
  }
 },
 "nbformat": 4,
 "nbformat_minor": 2
}
