{
 "cells": [
  {
   "cell_type": "markdown",
   "metadata": {},
   "source": [
    "# Ch2-2 字典(Dict)"
   ]
  },
  {
   "cell_type": "code",
   "execution_count": null,
   "metadata": {},
   "outputs": [],
   "source": [
    "letter = {'a':97,'b':98,'c':99} #\"a\"對應到97，\"b\"對應到98，\"c\"對應到99\n",
    "print(letter)"
   ]
  },
  {
   "cell_type": "code",
   "execution_count": null,
   "metadata": {},
   "outputs": [],
   "source": [
    "letter['d'] = 100  # 新增一個對應:\"d\"對應到100\n",
    "print(letter)\n",
    "\n",
    "letter['a'] = 65  # 新增一個對應:\"a\"對應到65，但\"a\"已存在，所以覆蓋原本的\"a\"對應\n",
    "print(letter)"
   ]
  },
  {
   "cell_type": "code",
   "execution_count": null,
   "metadata": {},
   "outputs": [],
   "source": [
    "letter.update({'e':101,'f':102})  # 新增兩個對應:\"e\"對應到101，\"f\"對應到102\n",
    "print(letter)\n",
    "\n",
    "letter.update({'e':101+10}) # 更新\"e\"對應的值，\"e\"對應到111\n",
    "print(letter)\n"
   ]
  },
  {
   "cell_type": "code",
   "execution_count": null,
   "metadata": {},
   "outputs": [],
   "source": [
    "print(letter.keys())    # 列出所有的key(鍵)\n",
    "print(letter.values())  # 列出所有的value(值)\n",
    "print(letter.items())   # 列出所有的key(鍵)和value(值)，其中以tuple(數組)的方式呈現"
   ]
  }
 ],
 "metadata": {
  "kernelspec": {
   "display_name": "data_mining",
   "language": "python",
   "name": "python3"
  },
  "language_info": {
   "codemirror_mode": {
    "name": "ipython",
    "version": 3
   },
   "file_extension": ".py",
   "mimetype": "text/x-python",
   "name": "python",
   "nbconvert_exporter": "python",
   "pygments_lexer": "ipython3",
   "version": "3.8.18"
  }
 },
 "nbformat": 4,
 "nbformat_minor": 2
}
