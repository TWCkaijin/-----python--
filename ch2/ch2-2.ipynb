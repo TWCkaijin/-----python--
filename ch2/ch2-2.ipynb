{
 "cells": [
  {
   "cell_type": "markdown",
   "metadata": {},
   "source": [
    "# Ch2-2 字典(Dict)"
   ]
  },
  {
   "cell_type": "code",
   "execution_count": 1,
   "metadata": {},
   "outputs": [
    {
     "name": "stdout",
     "output_type": "stream",
     "text": [
      "{'a': 97, 'b': 98, 'c': 99}\n"
     ]
    }
   ],
   "source": [
    "letter = {'a':97,'b':98,'c':99}\n",
    "print(letter)"
   ]
  },
  {
   "cell_type": "code",
   "execution_count": 2,
   "metadata": {},
   "outputs": [
    {
     "name": "stdout",
     "output_type": "stream",
     "text": [
      "{'a': 97, 'b': 98, 'c': 99, 'd': 100}\n",
      "{'a': 65, 'b': 98, 'c': 99, 'd': 100}\n"
     ]
    }
   ],
   "source": [
    "letter['d'] = 100\n",
    "print(letter)\n",
    "\n",
    "letter['a'] = 65\n",
    "print(letter)"
   ]
  },
  {
   "cell_type": "code",
   "execution_count": 3,
   "metadata": {},
   "outputs": [
    {
     "name": "stdout",
     "output_type": "stream",
     "text": [
      "{'a': 65, 'b': 98, 'c': 99, 'd': 100, 'e': 101, 'f': 102}\n",
      "{'a': 65, 'b': 98, 'c': 99, 'd': 100, 'e': 111, 'f': 102}\n"
     ]
    }
   ],
   "source": [
    "letter.update({'e':101,'f':102})\n",
    "print(letter)\n",
    "\n",
    "letter.update({'e':101+10})\n",
    "print(letter)\n"
   ]
  },
  {
   "cell_type": "code",
   "execution_count": 4,
   "metadata": {},
   "outputs": [
    {
     "name": "stdout",
     "output_type": "stream",
     "text": [
      "dict_keys(['a', 'b', 'c', 'd', 'e', 'f'])\n",
      "dict_values([65, 98, 99, 100, 111, 102])\n",
      "dict_items([('a', 65), ('b', 98), ('c', 99), ('d', 100), ('e', 111), ('f', 102)])\n"
     ]
    }
   ],
   "source": [
    "print(letter.keys())\n",
    "print(letter.values())\n",
    "print(letter.items())"
   ]
  }
 ],
 "metadata": {
  "kernelspec": {
   "display_name": "data_mining",
   "language": "python",
   "name": "python3"
  },
  "language_info": {
   "codemirror_mode": {
    "name": "ipython",
    "version": 3
   },
   "file_extension": ".py",
   "mimetype": "text/x-python",
   "name": "python",
   "nbconvert_exporter": "python",
   "pygments_lexer": "ipython3",
   "version": "3.8.18"
  }
 },
 "nbformat": 4,
 "nbformat_minor": 2
}
