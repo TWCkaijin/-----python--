{
 "cells": [
  {
   "cell_type": "markdown",
   "metadata": {},
   "source": [
    "# Ch2-2 字典(Dict)"
   ]
  },
  {
   "cell_type": "markdown",
   "metadata": {},
   "source": [
    "上一堂課我們講到了串列(List)，串列是一種有序的資料結構，而字典(Dict)則是一種無序的資料結構，字典是由一組鍵值對(key-value pair)組成，每個鍵值對(key-value pair)之間用逗號分隔，並用大括號{}包起來。字典的鍵(key)必須是唯一的，而值(value)可以是任何資料型態。"
   ]
  },
  {
   "cell_type": "markdown",
   "metadata": {},
   "source": [
    "### 1. 字典的建立"
   ]
  },
  {
   "cell_type": "code",
   "execution_count": null,
   "metadata": {},
   "outputs": [],
   "source": [
    "letter = {'a':97,'b':98,'c':99} #\"a\"對應到97，\"b\"對應到98，\"c\"對應到99\n",
    "print(letter)"
   ]
  },
  {
   "cell_type": "markdown",
   "metadata": {},
   "source": [
    "### 2. 存取字典元素\n",
    "與串列不同的是，字典的元素是透過鍵(key)來存取的，而不是透過索引(index)。"
   ]
  },
  {
   "cell_type": "code",
   "execution_count": null,
   "metadata": {},
   "outputs": [],
   "source": [
    "code = letter['a'] #取得\"a\"對應的值\n",
    "print(code)\n",
    "\n",
    "letter['a'] = 65  # 新增一個字典值:\"a\"對應到65，但\"a\"已存在，所以覆蓋原本的\"a\"字典值\n",
    "print(letter)\n",
    "\n",
    "letter['d'] = 100  # 將d指定為100，但由於d不存在，所以新增一組字典值\n",
    "print(letter)"
   ]
  },
  {
   "cell_type": "markdown",
   "metadata": {},
   "source": [
    "- 也可以使用update 來更新或新增字典值"
   ]
  },
  {
   "cell_type": "code",
   "execution_count": null,
   "metadata": {},
   "outputs": [],
   "source": [
    "letter.update({'e':101,'f':102})  # 新增兩個對應:\"e\"對應到101，\"f\"對應到102\n",
    "print(letter)\n",
    "\n",
    "letter.update({'e':101+10}) # 更新\"e\"對應的值，\"e\"對應到111\n",
    "print(letter)\n"
   ]
  },
  {
   "cell_type": "code",
   "execution_count": null,
   "metadata": {},
   "outputs": [],
   "source": [
    "print(letter.keys())    # 列出所有的key(鍵)\n",
    "print(letter.values())  # 列出所有的value(值)\n",
    "print(letter.items())   # 列出所有的key(鍵)和value(值)，其中以tuple(數組)的方式呈現"
   ]
  }
 ],
 "metadata": {
  "kernelspec": {
   "display_name": "base",
   "language": "python",
   "name": "python3"
  },
  "language_info": {
   "codemirror_mode": {
    "name": "ipython",
    "version": 3
   },
   "file_extension": ".py",
   "mimetype": "text/x-python",
   "name": "python",
   "nbconvert_exporter": "python",
   "pygments_lexer": "ipython3",
   "version": "3.10.9"
  }
 },
 "nbformat": 4,
 "nbformat_minor": 2
}
