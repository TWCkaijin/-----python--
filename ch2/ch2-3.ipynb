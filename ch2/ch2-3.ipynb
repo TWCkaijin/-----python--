{
 "cells": [
  {
   "cell_type": "markdown",
   "metadata": {},
   "source": [
    "# Ch2-3 元組(Tuple)"
   ]
  },
  {
   "cell_type": "markdown",
   "metadata": {},
   "source": [
    "tuple 是一種有序且不可變的集合，一但被宣告就不可以被改變。宣告 tuple 時使用小括號 `()`，元素之間以逗號 `,` 分隔。</br>\n",
    "tuple 可以包含不同的資料型態，例如整數、浮點數、字串、布林值、list、dict 等。</br>\n"
   ]
  },
  {
   "cell_type": "markdown",
   "metadata": {},
   "source": [
    "### 1. 宣告 tuple"
   ]
  },
  {
   "cell_type": "code",
   "execution_count": null,
   "metadata": {},
   "outputs": [],
   "source": [
    "x = (1,2) #建立一個tuple物件\n",
    "print(x)\n",
    "print(type(x))"
   ]
  },
  {
   "cell_type": "markdown",
   "metadata": {},
   "source": [
    "### 2. 存\"取\" tuple 元素\n",
    "tuple的取用方式就跟list相同，使用中括號`[]`，並在中括號內指定元素的索引值。</br>\n",
    "然而，由於tuple不可以被修改，所以當我們嘗試修改tuple物件時會出現錯誤"
   ]
  },
  {
   "cell_type": "code",
   "execution_count": null,
   "metadata": {},
   "outputs": [],
   "source": [
    "x = (1,2)\n",
    "print(x[0])  #tupl是可以像list一樣使用索引值"
   ]
  },
  {
   "cell_type": "code",
   "execution_count": null,
   "metadata": {},
   "outputs": [],
   "source": [
    "x[0] = 10   #tuple內部的值是不可以被更改的，所以這行會出錯"
   ]
  },
  {
   "cell_type": "markdown",
   "metadata": {},
   "source": [
    "### 3.List 轉型成 Tuple"
   ]
  },
  {
   "cell_type": "code",
   "execution_count": null,
   "metadata": {},
   "outputs": [],
   "source": [
    "temp = [1,2,3,4,5]\n",
    "x = tuple(temp)  #list可以直接轉換成tuple\n",
    "print(x)  "
   ]
  },
  {
   "cell_type": "markdown",
   "metadata": {},
   "source": [
    "### 4.使用Tuple的意義及場景\n",
    "未來，我們會講到一些\"物件\"以及\"序組\"的概念，這時候Tuple被廣泛運用。又因為Tuple是不可變的，所以當我們要確保一個物件的內容不會被更動時，就可以使用Tuple。</br>\n",
    "\n",
    "另外，由於tuple的特性，它可以被分解成多個數字來賦值給多個變數，這在一些情況下會很方便，例如: "
   ]
  },
  {
   "cell_type": "code",
   "execution_count": null,
   "metadata": {},
   "outputs": [],
   "source": [
    "x =  (1,2,3)\n",
    "\n",
    "a,b,c = x  #tuple可以直接被拆解，並分給等量的變數\n",
    "\n",
    "d,e = (1,2)  #另外舉例\n",
    "\n",
    "print(a,b,c,d,e)"
   ]
  }
 ],
 "metadata": {
  "kernelspec": {
   "display_name": "base",
   "language": "python",
   "name": "python3"
  },
  "language_info": {
   "codemirror_mode": {
    "name": "ipython",
    "version": 3
   },
   "file_extension": ".py",
   "mimetype": "text/x-python",
   "name": "python",
   "nbconvert_exporter": "python",
   "pygments_lexer": "ipython3",
   "version": "3.10.9"
  }
 },
 "nbformat": 4,
 "nbformat_minor": 2
}
