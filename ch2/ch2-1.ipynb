{
 "cells": [
  {
   "cell_type": "markdown",
   "metadata": {},
   "source": [
    "# Ch2-1 陣列\n",
    "\n",
    "### 陣列是一個可以儲存多組數據的資料結構，並且以他的排列順序作為index，方便儲存一組有順序的資料"
   ]
  },
  {
   "cell_type": "code",
   "execution_count": null,
   "metadata": {},
   "outputs": [],
   "source": [
    "#基本陣列操作\n",
    "\n",
    "array = []  # empty list\n",
    "array = [1,2,3,4,5]\n",
    "print(\"1.\",array,type(array))\n"
   ]
  },
  {
   "cell_type": "code",
   "execution_count": null,
   "metadata": {},
   "outputs": [],
   "source": [
    "array.append(6)  #在list的最後面加入一個元素\n",
    "print(\"2.\",array)"
   ]
  },
  {
   "cell_type": "code",
   "execution_count": null,
   "metadata": {},
   "outputs": [],
   "source": [
    "array.insert(0, 0) #在list的第0個位置加入一個元素\n",
    "print(\"3.\",array)"
   ]
  },
  {
   "cell_type": "code",
   "execution_count": null,
   "metadata": {},
   "outputs": [],
   "source": [
    "array.remove(3)   #移除list中的元素25\n",
    "print(\"4.\",array)"
   ]
  },
  {
   "cell_type": "code",
   "execution_count": null,
   "metadata": {},
   "outputs": [],
   "source": [
    "array.pop(5)  #移除list中的第五個元素\n",
    "print(\"5.\",array)"
   ]
  },
  {
   "cell_type": "code",
   "execution_count": null,
   "metadata": {},
   "outputs": [],
   "source": [
    "array.sort(reverse=True)  #將list中的元素由大到小排序\n",
    "print(\"6.\",array)"
   ]
  },
  {
   "cell_type": "code",
   "execution_count": null,
   "metadata": {},
   "outputs": [],
   "source": [
    "print(\"7.\",\"length:\",len(array))  #list的長度\n",
    "\n",
    "print(\"8.\",array.index(4))  #找出list中元素4的位置\n",
    "\n",
    "print(\"9.\",array.count(4))  #計算list中元素4的個數\n",
    "\n",
    "print(\"10.\",0 in array) #檢查0是否在list中\n",
    "\n",
    "array.clear()  #清空list\n",
    "print(\"11.\",array)"
   ]
  },
  {
   "cell_type": "code",
   "execution_count": null,
   "metadata": {},
   "outputs": [],
   "source": [
    "# 陣列切片\n",
    "\n",
    "array = [1,2,3,4,5,6,7,8,9]\n",
    "print(array[0])     #陣列中的第一個元素\n",
    "print(array[1:6])   #陣列中的第二個到第六個元素 0 1 2 3 4 5，不包含六號元素\n",
    "print(array[1:6:2]) #陣列中的第二個到第六個元素，間隔2"
   ]
  },
  {
   "cell_type": "code",
   "execution_count": null,
   "metadata": {},
   "outputs": [],
   "source": [
    "#二維陣列\n",
    "\n",
    "array = [[1,2,3],[4,5,6],[7,8,9]] #二維陣列\n",
    "print(array[0])                   #取出第一個元素 [1,2,3]\n",
    "print(array[0][0])                #取出第一個元素中的第一個元素 1"
   ]
  },
  {
   "cell_type": "code",
   "execution_count": null,
   "metadata": {},
   "outputs": [],
   "source": [
    "# 陣列的合併\n",
    "array1 = [[1,2],[3,4]]\n",
    "array2 = [4,5,6]\n",
    "array3 = array1 + array2\n",
    "print(array3)"
   ]
  },
  {
   "cell_type": "code",
   "execution_count": null,
   "metadata": {},
   "outputs": [],
   "source": [
    "# 字串其實也是陣列\n",
    "sen = \"Hello World\"\n",
    "print(sen[0],sen[6])"
   ]
  }
 ],
 "metadata": {
  "kernelspec": {
   "display_name": "data_mining",
   "language": "python",
   "name": "python3"
  },
  "language_info": {
   "codemirror_mode": {
    "name": "ipython",
    "version": 3
   },
   "file_extension": ".py",
   "mimetype": "text/x-python",
   "name": "python",
   "nbconvert_exporter": "python",
   "pygments_lexer": "ipython3",
   "version": "3.10.14"
  }
 },
 "nbformat": 4,
 "nbformat_minor": 2
}
