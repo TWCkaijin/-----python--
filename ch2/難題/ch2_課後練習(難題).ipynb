{
 "cells": [
  {
   "cell_type": "markdown",
   "metadata": {},
   "source": [
    "# Ch2 課後練習(難題)"
   ]
  },
  {
   "cell_type": "code",
   "execution_count": 16,
   "metadata": {},
   "outputs": [],
   "source": [
    "array = [1,11,21,2,12,22,3,13,23,4,14,24,5,15,25,6,16,26,7,17,27,8,18,9,19,10,20]\n",
    "\n",
    "codex = { 1:'A',  2:'B',  3:'C',  4:'D',  5:'E',  6:'F',  7:'G',  8:'H',  9:'I', 10:'J', \n",
    "         11:'K', 12:'L', 13:'M', 14:'N', 15:'O', 16:'P', 17:'Q', 18:'R', 19:'S', 20:'T', \n",
    "         21:'U', 22:'V', 23:'W', 24:'X', 25:'Y', 26:'Z', 27:' '}\n",
    "\n",
    "position = [21,12,4,4,13]\n",
    "\n",
    "\n",
    "\n",
    "    \n",
    "\n",
    "#剩下的請自行完成\n",
    "#######\n",
    "#題目需求:\n",
    "#1. 找到對應在array陣列中第(21,12,4,4,13)個位置(也就是position陣列中的值)所對應的值，並帶入codex字典中找到對應的字母\n",
    "\n",
    "#######\n",
    "#輸出結果: \n",
    "#HELLO"
   ]
  },
  {
   "cell_type": "code",
   "execution_count": null,
   "metadata": {},
   "outputs": [],
   "source": []
  }
 ],
 "metadata": {
  "kernelspec": {
   "display_name": "data_mining",
   "language": "python",
   "name": "python3"
  },
  "language_info": {
   "codemirror_mode": {
    "name": "ipython",
    "version": 3
   },
   "file_extension": ".py",
   "mimetype": "text/x-python",
   "name": "python",
   "nbconvert_exporter": "python",
   "pygments_lexer": "ipython3",
   "version": "3.8.18"
  }
 },
 "nbformat": 4,
 "nbformat_minor": 2
}
