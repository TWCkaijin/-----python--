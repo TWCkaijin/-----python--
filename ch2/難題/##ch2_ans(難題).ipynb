{
 "cells": [
  {
   "cell_type": "markdown",
   "metadata": {},
   "source": [
    "# Ch2 解答"
   ]
  },
  {
   "cell_type": "code",
   "execution_count": 2,
   "metadata": {},
   "outputs": [
    {
     "name": "stdout",
     "output_type": "stream",
     "text": [
      "HELLO\n"
     ]
    }
   ],
   "source": [
    "###REVERSE CIPHER###\n",
    "#\n",
    "#for word in \"HELLOWORLD\":\n",
    "#    pos = list(codex.values()).index(word)+1 #找出word在codex的位置\n",
    "#    print(array.index(pos),end=',')\n",
    "#\n",
    "###REVERSE CIPHER###\n",
    "\n",
    "array = [1,11,21,2,12,22,3,13,23,4,14,24,5,15,25,6,16,26,7,17,27,8,18,9,19,10,20]\n",
    "\n",
    "codex = { 1:'A',  2:'B',  3:'C',  4:'D',  5:'E',  6:'F',  7:'G',  8:'H',  9:'I', 10:'J', \n",
    "         11:'K', 12:'L', 13:'M', 14:'N', 15:'O', 16:'P', 17:'Q', 18:'R', 19:'S', 20:'T', \n",
    "         21:'U', 22:'V', 23:'W', 24:'X', 25:'Y', 26:'Z', 27:' '}\n",
    "\n",
    "position = [21,12,4,4,13]\n",
    "\n",
    "print(codex[array[position[0]]],end='')\n",
    "print(codex[array[position[1]]],end='')\n",
    "print(codex[array[position[2]]],end='')\n",
    "print(codex[array[position[3]]],end='')\n",
    "print(codex[array[position[4]]])\n",
    "\n",
    "\n",
    "\n",
    "\n",
    "\n",
    "    \n"
   ]
  },
  {
   "cell_type": "code",
   "execution_count": null,
   "metadata": {},
   "outputs": [],
   "source": []
  }
 ],
 "metadata": {
  "kernelspec": {
   "display_name": "data_mining",
   "language": "python",
   "name": "python3"
  },
  "language_info": {
   "codemirror_mode": {
    "name": "ipython",
    "version": 3
   },
   "file_extension": ".py",
   "mimetype": "text/x-python",
   "name": "python",
   "nbconvert_exporter": "python",
   "pygments_lexer": "ipython3",
   "version": "3.8.18"
  }
 },
 "nbformat": 4,
 "nbformat_minor": 2
}
