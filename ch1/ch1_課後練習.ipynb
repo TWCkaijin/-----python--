{
 "cells": [
  {
   "cell_type": "markdown",
   "metadata": {},
   "source": [
    "# Ch1 課後練習"
   ]
  },
  {
   "cell_type": "code",
   "execution_count": null,
   "metadata": {},
   "outputs": [],
   "source": [
    "my_name = \"\" #輸入你的名字\n",
    "my_age = 0  #輸入你的年齡\n",
    "my_studentid = \"\" #輸入你的學號\n",
    "\n",
    "a = 3.14\n",
    "b = 2.7\n",
    "c = 1.618\n",
    "d = 24\n",
    "\n",
    "\n",
    "\n",
    "\n",
    "\n",
    "#剩下的請自行完成\n",
    "#######\n",
    "#題目需求:\n",
    "#1. 輸入你的名字,年齡,學號,並且將這些資料印出來\n",
    "#2.(較難) 做出一個直式加法,並且將結果印出來(必須對齊小數點)\n",
    "\n",
    "#######\n",
    "#輸出結果: \n",
    "\n",
    "#我的名字是張三, 今年25歲, 學號是12345678\n",
    "#加法結果:\n",
    "#   3.14\n",
    "#   2.7\n",
    "#   1.618\n",
    "#+ 24\n",
    "# ---------\n",
    "# 31.458 "
   ]
  }
 ],
 "metadata": {
  "language_info": {
   "name": "python"
  }
 },
 "nbformat": 4,
 "nbformat_minor": 2
}
