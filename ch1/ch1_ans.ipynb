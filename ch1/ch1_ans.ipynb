{
 "cells": [
  {
   "cell_type": "markdown",
   "metadata": {},
   "source": [
    "## Ch1 解答"
   ]
  },
  {
   "cell_type": "code",
   "execution_count": null,
   "metadata": {},
   "outputs": [],
   "source": [
    "my_name = \"John\" #輸入你的名字\n",
    "my_age = 18  #輸入你的年齡\n",
    "my_studentid = \"123456789\" #輸入你的學號\n",
    "\n",
    "a = 3.1415926\n",
    "b = 2.7\n",
    "c = 1.618\n",
    "d = 24\n",
    "\n",
    "\n",
    "\n",
    "\n",
    "#剩下的請自行完成\n",
    "#######\n",
    "#題目需求:\n",
    "#1. 輸入你的名字,年齡,學號,並且將這些資料印出來\n",
    "#2. 做出一個直式加法,並且將結果印出來(圓周率取3.14)(必須對齊小數點)\n",
    "\n",
    "#######\n",
    "#輸出結果: \n",
    "\n",
    "#我的名字是張三, 今年25歲, 學號是12345678\n",
    "#加法結果:\n",
    "#   3.14\n",
    "#   2.7\n",
    "#   1.618\n",
    "#+ 24\n",
    "# ---------\n",
    "# 31.458 \n",
    "\n",
    "\n",
    "print(\"我的名字是{}, 今年{}歲, 學號是{}\".format(my_name, my_age, my_studentid))\n",
    "print(f\"加法結果:\\n{a:>7.2f}\\n{b:>6}\\n{c:>8}\\n+{d:>3}\\n---------\\n{a+b+c+d:>8.3f}\")\n"
   ]
  },
  {
   "cell_type": "code",
   "execution_count": null,
   "metadata": {},
   "outputs": [],
   "source": []
  }
 ],
 "metadata": {
  "kernelspec": {
   "display_name": "data_mining",
   "language": "python",
   "name": "python3"
  },
  "language_info": {
   "codemirror_mode": {
    "name": "ipython",
    "version": 3
   },
   "file_extension": ".py",
   "mimetype": "text/x-python",
   "name": "python",
   "nbconvert_exporter": "python",
   "pygments_lexer": "ipython3",
   "version": "3.8.18"
  }
 },
 "nbformat": 4,
 "nbformat_minor": 2
}
