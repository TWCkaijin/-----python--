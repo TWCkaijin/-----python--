{
 "cells": [
  {
   "cell_type": "markdown",
   "metadata": {},
   "source": [
    "# Ch1-1 Print your first code !"
   ]
  },
  {
   "cell_type": "markdown",
   "metadata": {},
   "source": [
    "#### 1.第一步，我們將教各位最最最基礎的\"印出\"功能，這是所有程式語言的第一步，也是最重要的一步！\n",
    "今天的第一節課，我們都將圍繞在這個Print函數!"
   ]
  },
  {
   "cell_type": "code",
   "execution_count": null,
   "metadata": {},
   "outputs": [],
   "source": [
    "print(\"Hello, World!\")  # 使用print()函数输出Hello, World!"
   ]
  },
  {
   "cell_type": "markdown",
   "metadata": {},
   "source": [
    "#### 2.我們可以輸入多個字串，並用逗號隔開，這樣就可以一次印出多個字串。並會在兩個字串之間自動加上一個空格。"
   ]
  },
  {
   "cell_type": "code",
   "execution_count": null,
   "metadata": {},
   "outputs": [],
   "source": [
    "print(\"Hello\",\"Python.\")  # 使用print()函数输出Hello, Python!"
   ]
  },
  {
   "cell_type": "markdown",
   "metadata": {},
   "source": [
    "#### 3.如果想要在印出結束後印出指定的字串，可以使用```end```參數，例如```print(\"Hello\", end=\"World\")```，將會印出```HelloWorld```</br>\n",
    "end 參數在不指定時預設為換行符號```\"\\n\"```，也就是說每次印出後都會換行。"
   ]
  },
  {
   "cell_type": "code",
   "execution_count": null,
   "metadata": {},
   "outputs": [],
   "source": [
    "print(\"Hello, World!\",end=\"--\")  \n",
    "# 使用print()函数输出Hello, World!，並在最後額外輸出\"--\"(預設為換行)"
   ]
  },
  {
   "cell_type": "code",
   "execution_count": null,
   "metadata": {},
   "outputs": [],
   "source": [
    "print(\"Hello World\",end=\" \")\n",
    "print(\"Hello Moon\",end=\" \")\n",
    "#所以如果印完不想要換行，可以使用end=\" \"，在最後輸出空格"
   ]
  },
  {
   "cell_type": "markdown",
   "metadata": {},
   "source": [
    "#### 4.接下來還有 ```sep``` 參數，可以用來指定多個字串之間的分隔符號，例如```print(\"Hello\", \"World\", sep=\"\")```，將會印出```HelloWorld```</br>"
   ]
  },
  {
   "cell_type": "code",
   "execution_count": null,
   "metadata": {},
   "outputs": [],
   "source": [
    "print(\"Hello Sam\" ,\"Hello Sally\" ,\"Hello Mike\" ,sep=\" & \" ,end=\"--\") \n",
    "# 使用print()函數输出Hello Sam , Hello Sally 以及 Hello Mike，並在最後額外输出\"--\"，並在每個參數之間输出\" & \""
   ]
  },
  {
   "cell_type": "markdown",
   "metadata": {},
   "source": [
    "#### 5.有一些特別的符號，在字串中會有特殊的功能，例如\n",
    "- ```\"\\n\"```代表換行\n",
    "- ```\"\\t\"```代表tab鍵\n",
    "- ```\"\\\\\"```代表反斜線\n",
    "- ```\"\\'\"```代表單引號\n",
    "- ```\"\\\"\"```代表雙引號"
   ]
  },
  {
   "cell_type": "code",
   "execution_count": null,
   "metadata": {},
   "outputs": [],
   "source": [
    "print(\"Hello \\nWorld\")      #跳行\n",
    "print(\"Hello \\tWorld\")      #tab\n",
    "print(\"Hello \\\\World\")      #\\\n",
    "print(\"Hello \\\"World\\\" \")   #\"\n",
    "print(\"Hello \\'World\\'\")    #'\n",
    "\n",
    "#多種的特殊符號 \\n   \\t   \\\\   \\\"   \\'"
   ]
  },
  {
   "cell_type": "markdown",
   "metadata": {},
   "source": [
    "#### X.課後小任務\n",
    "幫我印出下面的字串\n",
    "\n",
    "```Hello / world / ! / I / am / a / student / .```"
   ]
  }
 ],
 "metadata": {
  "kernelspec": {
   "display_name": "base",
   "language": "python",
   "name": "python3"
  },
  "language_info": {
   "codemirror_mode": {
    "name": "ipython",
    "version": 3
   },
   "file_extension": ".py",
   "mimetype": "text/x-python",
   "name": "python",
   "nbconvert_exporter": "python",
   "pygments_lexer": "ipython3",
   "version": "3.10.9"
  }
 },
 "nbformat": 4,
 "nbformat_minor": 2
}
