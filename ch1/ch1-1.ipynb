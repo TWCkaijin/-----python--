{
 "cells": [
  {
   "cell_type": "markdown",
   "metadata": {},
   "source": [
    "# Ch1-1 Print your first code !"
   ]
  },
  {
   "cell_type": "code",
   "execution_count": null,
   "metadata": {},
   "outputs": [],
   "source": [
    "print(\"Hello, World!\")  # 使用print()函数输出Hello, World!"
   ]
  },
  {
   "cell_type": "code",
   "execution_count": null,
   "metadata": {},
   "outputs": [],
   "source": [
    "print(\"Hello, World!\",end=\"--\")  \n",
    "# 使用print()函数输出Hello, World!，並在最後額外輸出\"--\"(預設為換行)"
   ]
  },
  {
   "cell_type": "code",
   "execution_count": null,
   "metadata": {},
   "outputs": [],
   "source": [
    "print(\"Hello World\",end=\" \")\n",
    "print(\"Hello Moon\",end=\" \")\n",
    "#如果印完不想要換行，可以使用end=\" \"，在最後輸出空格"
   ]
  },
  {
   "cell_type": "code",
   "execution_count": null,
   "metadata": {},
   "outputs": [],
   "source": [
    "print(\"Hello Sam\" ,\"Hello Sally\" ,\"Hello Mike\" ,sep=\" & \" ,end=\"--\") \n",
    "# 使用print()函數输出Hello Sam , Hello Sally 以及 Hello Mike，並在最後額外输出\"--\"，並在每個參數之間输出\" & \""
   ]
  },
  {
   "cell_type": "code",
   "execution_count": null,
   "metadata": {},
   "outputs": [],
   "source": [
    "print(\"Hello \\nWorld\")      #跳行\n",
    "print(\"Hello \\tWorld\")      #tab\n",
    "print(\"Hello \\\\World\")      #\\\n",
    "print(\"Hello \\\"World\\\" \")   #\"\n",
    "print(\"Hello \\'World\\'\")    #'\n",
    "\n",
    "#多種的特殊符號 \\n   \\t   \\\\   \\\"   \\'"
   ]
  }
 ],
 "metadata": {
  "kernelspec": {
   "display_name": "data_mining",
   "language": "python",
   "name": "python3"
  },
  "language_info": {
   "codemirror_mode": {
    "name": "ipython",
    "version": 3
   },
   "file_extension": ".py",
   "mimetype": "text/x-python",
   "name": "python",
   "nbconvert_exporter": "python",
   "pygments_lexer": "ipython3",
   "version": "3.8.18"
  }
 },
 "nbformat": 4,
 "nbformat_minor": 2
}
