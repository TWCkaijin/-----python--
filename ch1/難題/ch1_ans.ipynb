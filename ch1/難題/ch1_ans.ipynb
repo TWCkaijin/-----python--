{
 "cells": [
  {
   "cell_type": "markdown",
   "metadata": {},
   "source": [
    "# Ch1 課後練習"
   ]
  },
  {
   "cell_type": "markdown",
   "metadata": {},
   "source": [
    "題目需求:\n",
    "1. 輸入你的名字,年齡,學號,並且將這些資料印出來\n",
    "2. (較難) 做出一個直式加法,並且將結果印出來(必須對齊小數點)\n",
    "\n",
    "輸出範例: <br/>\n",
    "我的名字是張三, 今年25歲, 學號是12345678<br/>"
   ]
  },
  {
   "cell_type": "code",
   "execution_count": null,
   "metadata": {},
   "outputs": [],
   "source": [
    "#加法結果:\n",
    "#   3.14\n",
    "#   2.7\n",
    "#   1.618\n",
    "#+ 24\n",
    "# ---------\n",
    "# 31.458 "
   ]
  },
  {
   "cell_type": "code",
   "execution_count": null,
   "metadata": {},
   "outputs": [],
   "source": [
    "my_name = \"\" #輸入你的名字\n",
    "my_age = 0  #輸入你的年齡\n",
    "my_studentid = \"\" #輸入你的學號\n",
    "\n",
    "a = 3.14\n",
    "b = 2.7\n",
    "c = 1.618\n",
    "d = 24\n",
    "\n",
    "#請在這裡完成題目\n",
    "print(\"我的名字是{}, 今年{}歲, 學號是{}\".format(my_name, my_age, my_studentid))\n",
    "print(f\"加法結果:\\n{a:>7.2f}\\n{b:>6}\\n{c:>8}\\n+{d:>3}\\n---------\\n{a+b+c+d:>8.3f}\")"
   ]
  }
 ],
 "metadata": {
  "language_info": {
   "name": "python"
  }
 },
 "nbformat": 4,
 "nbformat_minor": 2
}
