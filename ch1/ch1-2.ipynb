{
 "cells": [
  {
   "cell_type": "markdown",
   "metadata": {},
   "source": [
    "# Ch1-2 變數(Variables)及變數型態(Data type)"
   ]
  },
  {
   "cell_type": "code",
   "execution_count": null,
   "metadata": {},
   "outputs": [],
   "source": [
    "#如何宣告一個變數?\n",
    "#變數名稱 = 變數值\n",
    "name = \"John\" #字串\n",
    "age = 18 #整數\n",
    "height = 180.5 #浮點數\n",
    "is_student = True #布林值(True or False)"
   ]
  },
  {
   "cell_type": "code",
   "execution_count": null,
   "metadata": {},
   "outputs": [],
   "source": [
    "int_var = 5    # x_var 是一個整數\n",
    "print(int_var,\",type=\",type(int_var))\n",
    "#使用type()函數來顯示變數的資料型態"
   ]
  },
  {
   "cell_type": "code",
   "execution_count": null,
   "metadata": {},
   "outputs": [],
   "source": [
    "float_var = 3.14 # y_var 是一個浮點數(小數)\n",
    "print(float_var,\",type=\",type(float_var))"
   ]
  },
  {
   "cell_type": "code",
   "execution_count": null,
   "metadata": {},
   "outputs": [],
   "source": [
    "string_var = \"Hello, World!\" # z_var 是一個字串\n",
    "print(string_var,\",type=\",type(string_var))"
   ]
  },
  {
   "cell_type": "code",
   "execution_count": null,
   "metadata": {},
   "outputs": [],
   "source": [
    "char_var = 'A' # char_var 是一個字元\n",
    "print(char_var,\",type=\",type(char_var))"
   ]
  },
  {
   "cell_type": "code",
   "execution_count": null,
   "metadata": {},
   "outputs": [],
   "source": [
    "#強制轉型 Type Casting\n",
    "x_plus_y = int_var + float_var # xy 是一個浮點數\n",
    "print(x_plus_y,\"type=\",type(x_plus_y))"
   ]
  },
  {
   "cell_type": "code",
   "execution_count": null,
   "metadata": {},
   "outputs": [],
   "source": [
    "#字串 string \n",
    "pre = \"Hello, \"\n",
    "post = \"World!\"\n",
    "pre_post = pre + post # 字串相加，可以把它理解為兩個字串接起來\n",
    "print(pre_post)"
   ]
  },
  {
   "cell_type": "code",
   "execution_count": null,
   "metadata": {},
   "outputs": [],
   "source": [
    "#字元 Char\n",
    "char_var = 'a'\n",
    "int_var = 97\n",
    "\n",
    "print(\"Original:\")\n",
    "print(f\"char_var= {char_var}\\nint_var= {int_var}\\n\\n\")\n",
    "#原始資料\n",
    "#    97   #    97   #   記憶體\n",
    "#   char  #   int   #   資料型態\n",
    "#   'a'   #    97   #   資料內容\n",
    "\n",
    "print(\"Ascii to Char:\")\n",
    "print(f\"char_var= {char_var}\\nint_var= {chr(int_var)}\\n\\n\")\n",
    "#使用chr()函數將數字轉換為字元\n",
    "#    97   #    97   #   記憶體\n",
    "#   char  #   char  #   資料型態\n",
    "#   'a'   #    'a'  #   資料內容\n",
    "\n",
    "print(\"Char to Ascii:\")\n",
    "print(f\"char_var= {ord(char_var)}\\nint_var= {int_var}\")\n",
    "#使用ord()函數將字元轉換為數字\n",
    "#    97   #    97   #   記憶體\n",
    "#   int   #   int   #   資料型態\n",
    "#    97   #    97   #   資料內容\n"
   ]
  },
  {
   "cell_type": "markdown",
   "metadata": {},
   "source": [
    "### 將變數以固定格式印出"
   ]
  },
  {
   "cell_type": "code",
   "execution_count": null,
   "metadata": {},
   "outputs": [],
   "source": [
    "x = 10                      # 整數\n",
    "y = 3.14159265358979323846  # 浮點數\n",
    "\n",
    "\n",
    "\n",
    "print(\"X is %f and Y is %f\" %(x,y))      # c style  --->  %d= 整數, %f= 浮點數, %s= 字串\n",
    "print(\"X is\",x,\"and Y is\",y)             # python style\n",
    "print(\"X is {} and y is {}\".format(x,y)) # python format style\n",
    "print(f\"X is {x} and Y is {y}\")          # python 3.6 f-string style"
   ]
  },
  {
   "cell_type": "code",
   "execution_count": null,
   "metadata": {},
   "outputs": [],
   "source": [
    "#  C語言風格的printf()函數格式化輸出\n",
    "\n",
    "#.8f 表示印出小數點後8位\n",
    "print(\"X is %d and Y is %.8f\" %(x,y))\n",
    "\n",
    "# %12.8f 表示總共12個字元，小數點後有8位\n",
    "print(\"X is %d and Y is %12.8f\" %(x,y))"
   ]
  },
  {
   "cell_type": "code",
   "execution_count": null,
   "metadata": {},
   "outputs": [],
   "source": [
    "#python的格式化輸出\n",
    "#透過{}來指定要放入變數的位置，並透過format()函數來指定變數的值(依順序補入)\n",
    "#如果{}中加入冒號，則可以在冒號後方指定格式化的方式\n",
    "print(\"X is {} and y is {:}\".format(x,y))       #預設是小數點後6位\n",
    "print(\"X is {} and y is {:.2}\".format(x,y))     #.2表示兩位數字\n",
    "print(\"X is {} and y is {:.2f}\".format(x,y))    #.2f表示小數點後2位\n",
    "print(\"X is {} and y is {:5.2f}\".format(x,y))   #5.2f表示總共5個字元，小數點後2位\n",
    "\n",
    "#< 靠左對齊, > 靠右對齊，^ 置中對齊, = 補0\n",
    "#多餘的格子會被填入空白\n",
    "print(\"X is {} and y is {:<5.2f} , it is simple\".format(x,y))\n",
    "print(\"X is {} and y is {:>5.2f} , it is simple\".format(x,y))\n",
    "\n",
    "\n",
    "#如果在{}中有數字，則會依照數字的順序來放入後面的參數\n",
    "print(\"a={2}, b={0}, c={1}, d={3}\".format(1,2,3,4))\n"
   ]
  },
  {
   "cell_type": "code",
   "execution_count": null,
   "metadata": {},
   "outputs": [],
   "source": [
    "#python 3.6版本後 f-string格式化輸出，稍稍簡化了format的寫法\n",
    "print(f\"X is {x} and y is {y}\")\n",
    "print(f\"X is {x} and y is {y:.2}\")\n",
    "print(f\"X is {x} and y is {y:.2f}\")\n",
    "print(f\"X is {x} and y is {y:<6.2f}, it is simple\")\n",
    "print(f\"X is {x} and y is {y:>6.2f}, it is simple\")"
   ]
  }
 ],
 "metadata": {
  "kernelspec": {
   "display_name": "data_mining",
   "language": "python",
   "name": "python3"
  },
  "language_info": {
   "codemirror_mode": {
    "name": "ipython",
    "version": 3
   },
   "file_extension": ".py",
   "mimetype": "text/x-python",
   "name": "python",
   "nbconvert_exporter": "python",
   "pygments_lexer": "ipython3",
   "version": "3.8.18"
  }
 },
 "nbformat": 4,
 "nbformat_minor": 2
}
