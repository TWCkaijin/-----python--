{
 "cells": [
  {
   "cell_type": "markdown",
   "metadata": {},
   "source": [
    "# Ch1-2 變數(Variables)及變數型態(Data type)"
   ]
  },
  {
   "cell_type": "markdown",
   "metadata": {},
   "source": [
    "##### 有的時候我們需要儲存一個會變動的數字，這時候我們就會用到變數。變數就像是一個盒子，我們可以把數字放進去，然後再取出來。在程式語言中，變數是用來儲存資料的一個名稱，這樣我們就可以在程式中使用這個名稱來存取這個資料。"
   ]
  },
  {
   "cell_type": "markdown",
   "metadata": {},
   "source": [
    "要特別注意，變數的命名有一些規則：\n",
    "1. 變數名稱只能包含字母、數字、底線，不能包含空格或其他符號。\n",
    "2. 變數名稱的第一個字元不能是數字。\n",
    "3. 變數名稱是大小寫有別的，也是大小寫的不同會造成不同的變數。\n",
    "4. 變數名稱不能是Python的保留字，例如`if`、`else`、`for`、`print`等等。\n",
    "> 備註: Python3 可以使用中文作為變數名稱，但不建議使用中文變數名稱。\n"
   ]
  },
  {
   "cell_type": "markdown",
   "metadata": {},
   "source": [
    "### 0. 前情提要: \n",
    "```python \n",
    "type(x) # 可以用來查看變數x的資料型態\n",
    "```"
   ]
  },
  {
   "cell_type": "markdown",
   "metadata": {},
   "source": [
    "### 1.字串(String)\n",
    "#### 我們可以使用單引號`''`或雙引號`\"\"`來建立字串，例如：\n",
    "```python\n",
    "name1 = 'John'\n",
    "```"
   ]
  },
  {
   "cell_type": "code",
   "execution_count": null,
   "metadata": {},
   "outputs": [],
   "source": [
    "name1 = \"John\"\n",
    "print(name1) #顯示變數值\n",
    "print(type(name1)) #顯示資料型態"
   ]
  },
  {
   "cell_type": "markdown",
   "metadata": {},
   "source": [
    "#### 我們可以使用加法來串接字串，例如：\n",
    "```python\n",
    "name1 = 'John'\n",
    "name2 = \"Doe\"\n",
    "name = name1 + name2\n",
    "```"
   ]
  },
  {
   "cell_type": "code",
   "execution_count": null,
   "metadata": {},
   "outputs": [],
   "source": [
    "name1 = \"John\"\n",
    "name2 = \"Mary\"\n",
    "name3 = name1 + name2 #變數相加\n",
    "print(name3)"
   ]
  },
  {
   "cell_type": "markdown",
   "metadata": {},
   "source": [
    "### 2.整數(Integer)"
   ]
  },
  {
   "cell_type": "markdown",
   "metadata": {},
   "source": [
    "#### 非常直接的使用數字來賦值，例如：\n",
    "```python\n",
    "age = 18\n",
    "```"
   ]
  },
  {
   "cell_type": "code",
   "execution_count": null,
   "metadata": {},
   "outputs": [],
   "source": [
    "age = 5\n",
    "print(type(age)) #顯示資料型態\n",
    "print(age) #顯示變數值"
   ]
  },
  {
   "cell_type": "markdown",
   "metadata": {},
   "source": [
    "而對整數的操作有...\n",
    "- 加法`+`\n",
    "- 減法`-`\n",
    "- 乘法`*`\n",
    "- 除法`/`\n",
    "- 取餘數`%`\n",
    "- 次方`**`\n",
    "- 整數除法`//`\n",
    "- 等號`=`(賦值)<br/>"
   ]
  },
  {
   "cell_type": "code",
   "execution_count": null,
   "metadata": {},
   "outputs": [],
   "source": [
    "num1 = 3\n",
    "num2 = 5\n",
    "\n",
    "add = num1 + num2 #變數相加\n",
    "print(add)\n",
    "\n",
    "sub = num1 - num2 #變數相減\n",
    "print(sub)\n",
    "\n",
    "mul = num1 * num2 #變數相乘\n",
    "print(mul)\n",
    "\n",
    "div = num1 / num2 #變數相除\n",
    "print(div)\n",
    "\n",
    "mod = num1 % num2 #變數取餘數\n",
    "print(mod)\n",
    "\n",
    "power = num1 ** num2 #變數次方\n",
    "print(power)\n",
    "\n",
    "int_div = num1 // num2 #變數整數除法\n",
    "print(int_div)\n",
    "\n",
    "\n"
   ]
  },
  {
   "cell_type": "markdown",
   "metadata": {},
   "source": [
    "### 3.小數(又稱浮點數)(Float)"
   ]
  },
  {
   "cell_type": "markdown",
   "metadata": {},
   "source": [
    "#### 小數的賦值跟整數一樣，例如：\n",
    "```python\n",
    "height = 1.75\n",
    "```"
   ]
  },
  {
   "cell_type": "code",
   "execution_count": null,
   "metadata": {},
   "outputs": [],
   "source": [
    "pi = 3.14159\n",
    "print(pi) #顯示變數值\n",
    "print(type(pi)) #顯示資料型態"
   ]
  },
  {
   "cell_type": "markdown",
   "metadata": {},
   "source": [
    "#### 對小數的操作基本跟整數一樣，可以參考整數的操作\n",
    "不過有幾點要注意:\n",
    "- 小數的運算在一些特殊情況下可能會出現誤差()\n",
    "> 這是因為電腦算小數點的方式跟我們不一樣，\n",
    "\n",
    "- 小數加上整數會自動轉型成小數\n",
    "> 例如: 1.0 + 1 = 2.0\n"
   ]
  },
  {
   "cell_type": "code",
   "execution_count": null,
   "metadata": {},
   "outputs": [],
   "source": [
    "print(5.6665 + 3.333) #整數與浮點數相加\n",
    "\n",
    "num = 5+3.333#整數與浮點數相加\n",
    "print(type(num))\n",
    "\n",
    "num2 = 5.0+6\n",
    "print(num2)"
   ]
  },
  {
   "cell_type": "code",
   "execution_count": null,
   "metadata": {},
   "outputs": [],
   "source": [
    "print(5//pi)"
   ]
  },
  {
   "cell_type": "markdown",
   "metadata": {},
   "source": [
    "### 4.字元(Character)\n",
    "#### 每個字串都是由字元組成的，字元就是一個字母或符號，例如： hello就是由 h、e、l、l、o 這幾個字元組成的。\n",
    "而每個字元都有自己的ASCII Code來代表 [ASCII表](https://zh.wikipedia.org/zh-tw/ASCII)\n",
    "\n",
    "> a是 97</br>\n",
    "> b是 98</br>\n",
    "> c是 99...</br>\n",
    "> z是 122</br>\n",
    "\n",
    "\n",
    "> A是 65</br>\n",
    "> B是 66</br>\n",
    "> C是 67...</br>\n",
    "> Z是 90</br>"
   ]
  },
  {
   "cell_type": "code",
   "execution_count": null,
   "metadata": {},
   "outputs": [],
   "source": [
    "char = 'A'\n",
    "print(char) #顯示變數值"
   ]
  },
  {
   "cell_type": "markdown",
   "metadata": {},
   "source": [
    "我們可以使用```ord()```函數來取得字元的ASCII Code，例如：\n",
    "```python\n",
    "print(ord('a'))\n",
    "```\n",
    "\n",
    "我們也可以使用```chr()```函數來取得該ASCII Code的字元，例如：\n",
    "```python\n",
    "print(chr(97))\n",
    "```"
   ]
  },
  {
   "cell_type": "code",
   "execution_count": null,
   "metadata": {},
   "outputs": [],
   "source": [
    "char = 'a'\n",
    "print(ord(char))\n",
    "\n",
    "int_num = 65\n",
    "print(chr(int_num))"
   ]
  },
  {
   "cell_type": "markdown",
   "metadata": {},
   "source": [
    "### * 字元整數轉換 * "
   ]
  },
  {
   "cell_type": "code",
   "execution_count": null,
   "metadata": {},
   "outputs": [],
   "source": [
    "#字元 Char\n",
    "char_var = 'a'\n",
    "int_var = 97\n",
    "\n",
    "print(\"Original:\")\n",
    "print(f\"char_var= {char_var}\\nint_var= {int_var}\\n\\n\")\n",
    "#原始資料\n",
    "#    97   #    97   #   記憶體\n",
    "#   char  #   int   #   資料型態\n",
    "#   'a'   #    97   #   資料內容"
   ]
  },
  {
   "cell_type": "code",
   "execution_count": null,
   "metadata": {},
   "outputs": [],
   "source": [
    "print(\"Ascii to Char:\")\n",
    "print(f\"char_var= {char_var}\\nint_var= {chr(int_var)}\\n\\n\")\n",
    "#使用chr()函數將數字轉換為字元\n",
    "#    97   #    97   #   記憶體\n",
    "#   char  #   char  #   資料型態\n",
    "#   'a'   #    'a'  #   資料內容"
   ]
  },
  {
   "cell_type": "code",
   "execution_count": null,
   "metadata": {},
   "outputs": [],
   "source": [
    "print(\"Char to Ascii:\")\n",
    "print(f\"char_var= {ord(char_var)}\\nint_var= {int_var}\")\n",
    "#使用ord()函數將字元轉換為數字\n",
    "#    97   #    97   #   記憶體\n",
    "#   int   #   int   #   資料型態\n",
    "#    97   #    97   #   資料內容"
   ]
  },
  {
   "cell_type": "markdown",
   "metadata": {},
   "source": [
    "### 5.布林(Boolean)\n",
    "#### 布林值只有兩個值，True和False，通常用來做條件判斷，例如：\n",
    "```python\n",
    "is_student = True\n",
    "```"
   ]
  },
  {
   "cell_type": "code",
   "execution_count": null,
   "metadata": {},
   "outputs": [],
   "source": [
    "is_student = True\n",
    "print(is_student) #顯示變數值\n",
    "print(type(is_student)) #顯示資料型態"
   ]
  },
  {
   "cell_type": "markdown",
   "metadata": {},
   "source": [
    "### X. 課後小任務\n",
    "1. 請建立一個變數，名稱為`my_name`，並賦值為你的名字。\n",
    "2. 請建立一個變數，名稱為`my_age`，並賦值為你的年齡。\n",
    "3. 請建立一個變數，名稱為`my_height`，並賦值為你的身高。\n",
    "4. 請建立一個變數，名稱為`ASCII`，並賦值為你my_age*5。"
   ]
  }
 ],
 "metadata": {
  "kernelspec": {
   "display_name": "base",
   "language": "python",
   "name": "python3"
  },
  "language_info": {
   "codemirror_mode": {
    "name": "ipython",
    "version": 3
   },
   "file_extension": ".py",
   "mimetype": "text/x-python",
   "name": "python",
   "nbconvert_exporter": "python",
   "pygments_lexer": "ipython3",
   "version": "3.10.9"
  }
 },
 "nbformat": 4,
 "nbformat_minor": 2
}
