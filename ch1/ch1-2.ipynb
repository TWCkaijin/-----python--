{
 "cells": [
  {
   "cell_type": "markdown",
   "metadata": {},
   "source": [
    "# Ch1-2 變數(Variables)及變數型態(Data type)"
   ]
  },
  {
   "cell_type": "code",
   "execution_count": 1,
   "metadata": {},
   "outputs": [
    {
     "name": "stdout",
     "output_type": "stream",
     "text": [
      "<class 'str'>\n"
     ]
    }
   ],
   "source": [
    "#如何宣告一個變數?\n",
    "#變數名稱 = 變數值\n",
    "\n",
    "name = \"John\" #字串 string\n",
    "age = 18 #整數 int\n",
    "height = 180.5 #浮點數 float\n",
    "is_student = True #布林值(True or False) bool\n",
    "\n",
    "#查看變數資料型態?\n",
    "\n",
    "print(type(name))"
   ]
  },
  {
   "cell_type": "code",
   "execution_count": null,
   "metadata": {},
   "outputs": [],
   "source": [
    "# int 整數\n",
    "int_var = 5    # x_var 是一個整數\n",
    "print(int_var,\",type=\",type(int_var))\n",
    "#使用type()函數來顯示變數的資料型態"
   ]
  },
  {
   "cell_type": "code",
   "execution_count": null,
   "metadata": {},
   "outputs": [],
   "source": [
    "float_var = 3.14 # y_var 是一個浮點數(小數)\n",
    "print(float_var,\",type=\",type(float_var))"
   ]
  },
  {
   "cell_type": "code",
   "execution_count": null,
   "metadata": {},
   "outputs": [],
   "source": [
    "string_var = \"Hello, World!\" # z_var 是一個字串\n",
    "print(string_var,\",type=\",type(string_var))"
   ]
  },
  {
   "cell_type": "code",
   "execution_count": null,
   "metadata": {},
   "outputs": [],
   "source": [
    "char_var = 'A' # char_var 是一個字元\n",
    "print(char_var,\",type=\",type(char_var))"
   ]
  },
  {
   "cell_type": "code",
   "execution_count": null,
   "metadata": {},
   "outputs": [],
   "source": [
    "#強制轉型 Type Casting\n",
    "x_plus_y = int_var + float_var # xy 是一個浮點數\n",
    "print(x_plus_y,\"type=\",type(x_plus_y))"
   ]
  },
  {
   "cell_type": "code",
   "execution_count": null,
   "metadata": {},
   "outputs": [],
   "source": [
    "#字串 string \n",
    "pre = \"Hello, \"\n",
    "post = \"World!\"\n",
    "pre_post = pre + post # 字串相加，可以把它理解為兩個字串接起來\n",
    "print(pre_post)"
   ]
  },
  {
   "cell_type": "code",
   "execution_count": null,
   "metadata": {},
   "outputs": [],
   "source": [
    "#字元 Char\n",
    "char_var = 'a'\n",
    "int_var = 97\n",
    "\n",
    "print(\"Original:\")\n",
    "print(f\"char_var= {char_var}\\nint_var= {int_var}\\n\\n\")\n",
    "#原始資料\n",
    "#    97   #    97   #   記憶體\n",
    "#   char  #   int   #   資料型態\n",
    "#   'a'   #    97   #   資料內容\n",
    "\n",
    "print(\"Ascii to Char:\")\n",
    "print(f\"char_var= {char_var}\\nint_var= {chr(int_var)}\\n\\n\")\n",
    "#使用chr()函數將數字轉換為字元\n",
    "#    97   #    97   #   記憶體\n",
    "#   char  #   char  #   資料型態\n",
    "#   'a'   #    'a'  #   資料內容\n",
    "\n",
    "print(\"Char to Ascii:\")\n",
    "print(f\"char_var= {ord(char_var)}\\nint_var= {int_var}\")\n",
    "#使用ord()函數將字元轉換為數字\n",
    "#    97   #    97   #   記憶體\n",
    "#   int   #   int   #   資料型態\n",
    "#    97   #    97   #   資料內容\n"
   ]
  }
 ],
 "metadata": {
  "kernelspec": {
   "display_name": "data_mining",
   "language": "python",
   "name": "python3"
  },
  "language_info": {
   "codemirror_mode": {
    "name": "ipython",
    "version": 3
   },
   "file_extension": ".py",
   "mimetype": "text/x-python",
   "name": "python",
   "nbconvert_exporter": "python",
   "pygments_lexer": "ipython3",
   "version": "3.12.4"
  }
 },
 "nbformat": 4,
 "nbformat_minor": 2
}
