{
 "cells": [
  {
   "cell_type": "markdown",
   "metadata": {},
   "source": [
    "# Ch1-2 變數(Variables)及變數型態(Data type)"
   ]
  },
  {
   "cell_type": "code",
   "execution_count": null,
   "metadata": {},
   "outputs": [],
   "source": [
    "#如何宣告一個變數?\n",
    "#變數名稱 = 變數值\n",
    "name = \"John\" #字串\n",
    "age = 18 #整數\n",
    "height = 180.5 #浮點數\n",
    "is_student = True #布林值(True or False)"
   ]
  },
  {
   "cell_type": "code",
   "execution_count": 1,
   "metadata": {},
   "outputs": [
    {
     "name": "stdout",
     "output_type": "stream",
     "text": [
      "5 ,type= <class 'int'>\n"
     ]
    }
   ],
   "source": [
    "int_var = 5    # x_var 是一個整數\n",
    "print(int_var,\",type=\",type(int_var))\n",
    "#使用type()函數來顯示變數的資料型態"
   ]
  },
  {
   "cell_type": "code",
   "execution_count": 2,
   "metadata": {},
   "outputs": [
    {
     "name": "stdout",
     "output_type": "stream",
     "text": [
      "3.14 ,type= <class 'float'>\n"
     ]
    }
   ],
   "source": [
    "float_var = 3.14 # y_var 是一個浮點數(小數)\n",
    "print(float_var,\",type=\",type(float_var))"
   ]
  },
  {
   "cell_type": "code",
   "execution_count": 3,
   "metadata": {},
   "outputs": [
    {
     "name": "stdout",
     "output_type": "stream",
     "text": [
      "Hello, World! ,type= <class 'str'>\n"
     ]
    }
   ],
   "source": [
    "string_var = \"Hello, World!\" # z_var 是一個字串\n",
    "print(string_var,\",type=\",type(string_var))"
   ]
  },
  {
   "cell_type": "code",
   "execution_count": 4,
   "metadata": {},
   "outputs": [
    {
     "name": "stdout",
     "output_type": "stream",
     "text": [
      "A ,type= <class 'str'>\n"
     ]
    }
   ],
   "source": [
    "char_var = 'A' # char_var 是一個字元\n",
    "print(char_var,\",type=\",type(char_var))"
   ]
  },
  {
   "cell_type": "code",
   "execution_count": 5,
   "metadata": {},
   "outputs": [
    {
     "name": "stdout",
     "output_type": "stream",
     "text": [
      "8.14 type= <class 'float'>\n"
     ]
    }
   ],
   "source": [
    "#強制轉型 Type Casting\n",
    "x_plus_y = int_var + float_var # xy 是一個浮點數\n",
    "print(x_plus_y,\"type=\",type(x_plus_y))"
   ]
  },
  {
   "cell_type": "code",
   "execution_count": 6,
   "metadata": {},
   "outputs": [
    {
     "name": "stdout",
     "output_type": "stream",
     "text": [
      "Hello, World!\n"
     ]
    }
   ],
   "source": [
    "#字串 string \n",
    "pre = \"Hello, \"\n",
    "post = \"World!\"\n",
    "pre_post = pre + post # 字串相加，可以把它理解為兩個字串接起來\n",
    "print(pre_post)"
   ]
  },
  {
   "cell_type": "code",
   "execution_count": 7,
   "metadata": {},
   "outputs": [
    {
     "name": "stdout",
     "output_type": "stream",
     "text": [
      "Original:\n",
      "char_var= a\n",
      "int_var= 97\n",
      "\n",
      "\n",
      "Ascii to Char:\n",
      "char_var= a\n",
      "int_var= a\n",
      "\n",
      "\n",
      "Char to Ascii:\n",
      "char_var= 97\n",
      "int_var= 97\n"
     ]
    }
   ],
   "source": [
    "#字元 Char\n",
    "char_var = 'a'\n",
    "int_var = 97\n",
    "\n",
    "print(\"Original:\")\n",
    "print(f\"char_var= {char_var}\\nint_var= {int_var}\\n\\n\")\n",
    "#原始資料\n",
    "#    97   #    97   #   記憶體\n",
    "#   char  #   int   #   資料型態\n",
    "#   'a'   #    97   #   資料內容\n",
    "\n",
    "print(\"Ascii to Char:\")\n",
    "print(f\"char_var= {char_var}\\nint_var= {chr(int_var)}\\n\\n\")\n",
    "#使用chr()函數將數字轉換為字元\n",
    "#    97   #    97   #   記憶體\n",
    "#   char  #   char  #   資料型態\n",
    "#   'a'   #    'a'  #   資料內容\n",
    "\n",
    "print(\"Char to Ascii:\")\n",
    "print(f\"char_var= {ord(char_var)}\\nint_var= {int_var}\")\n",
    "#使用ord()函數將字元轉換為數字\n",
    "#    97   #    97   #   記憶體\n",
    "#   int   #   int   #   資料型態\n",
    "#    97   #    97   #   資料內容\n"
   ]
  },
  {
   "cell_type": "markdown",
   "metadata": {},
   "source": [
    "### 將變數以固定格式印出"
   ]
  },
  {
   "cell_type": "code",
   "execution_count": 8,
   "metadata": {},
   "outputs": [
    {
     "name": "stdout",
     "output_type": "stream",
     "text": [
      "X is 10.000000 and Y is 3.141593\n",
      "X is 10 and Y is 3.141592653589793\n",
      "X is 10 and y is 3.141592653589793\n",
      "X is 10 and Y is 3.141592653589793\n"
     ]
    }
   ],
   "source": [
    "x = 10                      # 整數\n",
    "y = 3.14159265358979323846  # 浮點數\n",
    "print(\"X is %f and Y is %f\" %(x,y))      # c style\n",
    "print(\"X is\",x,\"and Y is\",y)             # python style\n",
    "print(\"X is {} and y is {}\".format(x,y)) # python format style\n",
    "print(f\"X is {x} and Y is {y}\")          # python 3.6 f-string style"
   ]
  },
  {
   "cell_type": "code",
   "execution_count": 9,
   "metadata": {},
   "outputs": [
    {
     "name": "stdout",
     "output_type": "stream",
     "text": [
      "X is 10 and Y is 3.14159265\n",
      "X is 10 and Y is   3.14159265\n"
     ]
    }
   ],
   "source": [
    "# %d= 整數, %f= 浮點數, %s= 字串\n",
    "#  C語言的printf()函數格式化輸出\n",
    "\n",
    "#.8f 表示印出小數點後8位\n",
    "print(\"X is %d and Y is %.8f\" %(x,y))\n",
    "\n",
    "# %12.8f 表示總共12個字元，小數點後有8位\n",
    "print(\"X is %d and Y is %12.8f\" %(x,y))"
   ]
  },
  {
   "cell_type": "code",
   "execution_count": 10,
   "metadata": {},
   "outputs": [
    {
     "name": "stdout",
     "output_type": "stream",
     "text": [
      "X is 10 and y is 3.141592653589793\n",
      "X is 10 and y is 3.1\n",
      "X is 10 and y is 3.14\n",
      "X is 10 and y is  3.14\n",
      "X is 10 and y is 3.14  , it is simple\n",
      "X is 10 and y is  3.14 , it is simple\n"
     ]
    }
   ],
   "source": [
    "#python的格式化輸出\n",
    "print(\"X is {} and y is {:}\".format(x,y))\n",
    "print(\"X is {} and y is {:.2}\".format(x,y))\n",
    "print(\"X is {} and y is {:.2f}\".format(x,y))\n",
    "print(\"X is {} and y is {:5.2f}\".format(x,y))\n",
    "\n",
    "#< 靠左對齊, > 靠右對齊，^ 置中對齊, = 補0\n",
    "#多餘的格子會被填入空白\n",
    "print(\"X is {} and y is {:<5.2f} , it is simple\".format(x,y))\n",
    "print(\"X is {} and y is {:>5.2f} , it is simple\".format(x,y))"
   ]
  },
  {
   "cell_type": "code",
   "execution_count": 11,
   "metadata": {},
   "outputs": [
    {
     "name": "stdout",
     "output_type": "stream",
     "text": [
      "X is 10 and y is 3.141592653589793\n",
      "X is 10 and y is 3.1\n",
      "X is 10 and y is 3.14\n",
      "X is 10 and y is 3.14  , it is simple\n",
      "X is 10 and y is   3.14, it is simple\n"
     ]
    }
   ],
   "source": [
    "#python 3.6版本後 f-string格式化輸出，稍稍簡化了format的寫法\n",
    "print(f\"X is {x} and y is {y}\")\n",
    "print(f\"X is {x} and y is {y:.2}\")\n",
    "print(f\"X is {x} and y is {y:.2f}\")\n",
    "print(f\"X is {x} and y is {y:<6.2f}, it is simple\")\n",
    "print(f\"X is {x} and y is {y:>6.2f}, it is simple\")"
   ]
  }
 ],
 "metadata": {
  "kernelspec": {
   "display_name": "data_mining",
   "language": "python",
   "name": "python3"
  },
  "language_info": {
   "codemirror_mode": {
    "name": "ipython",
    "version": 3
   },
   "file_extension": ".py",
   "mimetype": "text/x-python",
   "name": "python",
   "nbconvert_exporter": "python",
   "pygments_lexer": "ipython3",
   "version": "3.8.18"
  }
 },
 "nbformat": 4,
 "nbformat_minor": 2
}
