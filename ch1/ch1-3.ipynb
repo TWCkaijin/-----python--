{
 "cells": [
  {
   "cell_type": "markdown",
   "metadata": {},
   "source": [
    "# Ch1-3 格式化輸出及輸入"
   ]
  },
  {
   "cell_type": "markdown",
   "metadata": {},
   "source": [
    "有時候印出來的數字太長，不容易閱讀。或是印出來時需要一些排版，這時候就需要格式化輸出。"
   ]
  },
  {
   "cell_type": "markdown",
   "metadata": {},
   "source": [
    "### 1. 我們先從基本的變數導入開始"
   ]
  },
  {
   "cell_type": "code",
   "execution_count": null,
   "metadata": {},
   "outputs": [],
   "source": [
    "x = 10                      # 整數\n",
    "y = 123456.14159265358979323846  # 浮點數\n",
    "\n",
    "\n",
    "print(f\"X is {x} and Y is {y}\")          # 將變數用大括號括起來，並在字串前加上 f"
   ]
  },
  {
   "cell_type": "code",
   "execution_count": null,
   "metadata": {},
   "outputs": [],
   "source": [
    "print(f\"X is {x} and y is {y:.2f}\")     # 顯示到小數點後2位\n",
    "print(f\"X is {x} and y is {y:<12.2f}, it is simple\") # 共顯示12位，小數點顯示到後2位，並向左對齊，不足的地方補空格\n",
    "print(f\"X is {x} and y is {y:>12.2f}, it is simple\") # 共顯示12位，小數點顯示到後2位，並向右對齊，不足的地方補空格\n",
    "\n",
    "print(f\"X is {x} and y is {y:6.2f}, it is simple\") \n",
    "# 共顯示6位，小數點顯示到後2位，並向右對齊。但由於整數6位+小數2位等於8位，6位不夠，所以會顯示全部"
   ]
  },
  {
   "cell_type": "markdown",
   "metadata": {},
   "source": [
    "### 2.如何讓使用者輸入數字並成為變數?\n",
    "我們可以使用\n",
    "```python\n",
    "input(\"輸入一些訊息\")\n",
    "```\n",
    "來代表使用者的輸入\n",
    "所以準確用法如下: \n",
    "```python\n",
    "a = input(\"輸入一些訊息\")\n",
    "```\n",
    "這樣a就是使用者輸入的值了"
   ]
  },
  {
   "cell_type": "markdown",
   "metadata": {},
   "source": []
  },
  {
   "cell_type": "code",
   "execution_count": 3,
   "metadata": {},
   "outputs": [
    {
     "name": "stdout",
     "output_type": "stream",
     "text": [
      "你輸入了5\n"
     ]
    }
   ],
   "source": [
    "x = input(\"輸入一些數字:\")\n",
    "print(f\"你輸入了{x}\")"
   ]
  },
  {
   "cell_type": "markdown",
   "metadata": {},
   "source": [
    "我們也可以輸入多次並輸出"
   ]
  },
  {
   "cell_type": "code",
   "execution_count": null,
   "metadata": {},
   "outputs": [],
   "source": [
    "a = input(\"a=\")\n",
    "b = input(\"b=\")\n",
    "c = input(\"c=\")  \n",
    "print(f\"a is {a}, b is {b}, c is {c}\")"
   ]
  }
 ],
 "metadata": {
  "kernelspec": {
   "display_name": "base",
   "language": "python",
   "name": "python3"
  },
  "language_info": {
   "codemirror_mode": {
    "name": "ipython",
    "version": 3
   },
   "file_extension": ".py",
   "mimetype": "text/x-python",
   "name": "python",
   "nbconvert_exporter": "python",
   "pygments_lexer": "ipython3",
   "version": "3.10.9"
  }
 },
 "nbformat": 4,
 "nbformat_minor": 2
}
