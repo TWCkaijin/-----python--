{
 "cells": [
  {
   "cell_type": "markdown",
   "metadata": {},
   "source": [
    "# Ch1-3 格式化輸出"
   ]
  },
  {
   "cell_type": "code",
   "execution_count": null,
   "metadata": {},
   "outputs": [],
   "source": [
    "x = 10                      # 整數\n",
    "y = 3.14159265358979323846  # 浮點數\n",
    "\n",
    "\n",
    "\n",
    "print(\"X is %f and Y is %f\" %(x,y))      # c style  --->  %d= 整數, %f= 浮點數, %s= 字串\n",
    "print(\"X is\",x,\"and Y is\",y)             # python style\n",
    "print(\"X is {} and y is {}\".format(x,y)) # python format style\n",
    "print(f\"X is {x} and Y is {y}\")          # python 3.6 f-string style"
   ]
  },
  {
   "cell_type": "code",
   "execution_count": null,
   "metadata": {},
   "outputs": [],
   "source": [
    "#  C語言風格的printf()函數格式化輸出\n",
    "\n",
    "#.8f 表示印出小數點後8位\n",
    "print(\"X is %d and Y is %.8f\" %(x,y))\n",
    "\n",
    "# %12.8f 表示總共12個字元，小數點後有8位\n",
    "print(\"X is %d and Y is %12.8f\" %(x,y))"
   ]
  },
  {
   "cell_type": "code",
   "execution_count": null,
   "metadata": {},
   "outputs": [],
   "source": [
    "#python的格式化輸出\n",
    "#透過{}來指定要放入變數的位置，並透過format()函數來指定變數的值(依順序補入)\n",
    "#如果{}中加入冒號，則可以在冒號後方指定格式化的方式\n",
    "print(\"X is {} and y is {:}\".format(x,y))       #預設是小數點後6位\n",
    "print(\"X is {} and y is {:.2}\".format(x,y))     #.2表示兩位數字\n",
    "print(\"X is {} and y is {:.2f}\".format(x,y))    #.2f表示小數點後2位\n",
    "print(\"X is {} and y is {:5.2f}\".format(x,y))   #5.2f表示總共5個字元，小數點後2位\n",
    "\n",
    "#< 靠左對齊, > 靠右對齊，^ 置中對齊, = 補0\n",
    "#多餘的格子會被填入空白\n",
    "print(\"X is {} and y is {:<5.2f} , it is simple\".format(x,y))\n",
    "print(\"X is {} and y is {:>5.2f} , it is simple\".format(x,y))\n",
    "\n",
    "\n",
    "#如果在{}中有數字，則會依照數字的順序來放入後面的參數\n",
    "print(\"a={2}, b={0}, c={1}, d={3}\".format(1,2,3,4))\n"
   ]
  },
  {
   "cell_type": "code",
   "execution_count": null,
   "metadata": {},
   "outputs": [],
   "source": [
    "#python 3.6版本後 f-string格式化輸出，稍稍簡化了format的寫法\n",
    "print(f\"X is {x} and y is {y}\")\n",
    "print(f\"X is {x} and y is {y:.2}\")\n",
    "print(f\"X is {x} and y is {y:.2f}\")\n",
    "print(f\"X is {x} and y is {y:<6.2f}, it is simple\")\n",
    "print(f\"X is {x} and y is {y:>6.2f}, it is simple\")"
   ]
  }
 ],
 "metadata": {
  "kernelspec": {
   "display_name": "data_mining",
   "language": "python",
   "name": "python3"
  },
  "language_info": {
   "codemirror_mode": {
    "name": "ipython",
    "version": 3
   },
   "file_extension": ".py",
   "mimetype": "text/x-python",
   "name": "python",
   "nbconvert_exporter": "python",
   "pygments_lexer": "ipython3",
   "version": "3.8.18"
  }
 },
 "nbformat": 4,
 "nbformat_minor": 2
}
