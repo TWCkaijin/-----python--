{
 "cells": [
  {
   "cell_type": "markdown",
   "metadata": {},
   "source": [
    "# ch6-1 class 型別"
   ]
  },
  {
   "cell_type": "markdown",
   "metadata": {},
   "source": [
    "今天開始我開始來解釋甚麼是Class \n",
    "\n",
    "各位還記得之前的\"資料型態\"嗎?\n",
    "今天我們要來自己定義一個資料型態\n",
    "\n",
    "那麼首先，如何定義自己的資料型態呢?"
   ]
  },
  {
   "cell_type": "markdown",
   "metadata": {},
   "source": [
    "### ```一. Class的基本定義```"
   ]
  },
  {
   "cell_type": "markdown",
   "metadata": {},
   "source": [
    "#### 1.class 模板"
   ]
  },
  {
   "cell_type": "code",
   "execution_count": null,
   "metadata": {},
   "outputs": [],
   "source": [
    "class mytype:\n",
    "    a = 0\n",
    "    b = \"newtype\"\n",
    "    c = [1,2,3,4,5]"
   ]
  },
  {
   "cell_type": "code",
   "execution_count": null,
   "metadata": {},
   "outputs": [],
   "source": [
    "print(mytype.a)\n",
    "print(mytype.b)\n",
    "print(mytype.c)\n",
    "\n",
    "mytype.a = 1\n",
    "print(f'a=1: {mytype.a}')"
   ]
  },
  {
   "cell_type": "markdown",
   "metadata": {},
   "source": [
    "\n",
    "\n",
    "- 上面的a、b、c屬性是模板屬性，也就是你改變了模板的屬性，之後初始化的物件都會受到影響。</br>\n",
    "(ps: 改變模板是直接使用mytype.a = 1這樣的方式)"
   ]
  },
  {
   "cell_type": "markdown",
   "metadata": {},
   "source": [
    "#### 2. class instance 建立物件"
   ]
  },
  {
   "cell_type": "code",
   "execution_count": null,
   "metadata": {},
   "outputs": [],
   "source": [
    "class mytype:\n",
    "    a = 0\n",
    "    b = \"newtype\"\n",
    "    c = [1,2,3,4,5]"
   ]
  },
  {
   "cell_type": "code",
   "execution_count": null,
   "metadata": {},
   "outputs": [],
   "source": [
    "new_instance = mytype()\n",
    "\n",
    "print(new_instance.a)\n",
    "print(new_instance.b)\n",
    "print(new_instance.c)\n",
    "\n",
    "new_instance.a = 1\n",
    "print(f'a=1: {new_instance.a}')"
   ]
  },
  {
   "cell_type": "markdown",
   "metadata": {},
   "source": [
    "- 當你初始化這個物件之後，你可以改變這個物件原本的模板屬姓，而這個屬性只會影響到這個物件本身。</br>\n",
    "(ps: 改變物件屬性是使用new_instance1.a = 1這樣的方式)"
   ]
  },
  {
   "cell_type": "markdown",
   "metadata": {},
   "source": [
    "#### 3. class function \n",
    " \n",
    "我們也可以在裡面定義函數 (function) 來操作這個資料型態。"
   ]
  },
  {
   "cell_type": "code",
   "execution_count": null,
   "metadata": {},
   "outputs": [],
   "source": [
    "class mytype:\n",
    "    a = 0\n",
    "    b = \"newtype\"\n",
    "    c = [1,2,3,4,5]\n",
    "\n",
    "    sum = 0\n",
    "\n",
    "    def print_tmp(self):\n",
    "        print(self.a)\n",
    "        print(self.b)\n",
    "        print(self.c)\n",
    "\n",
    "    def add(self, x, y):\n",
    "        self.sum = x + y\n",
    "        # 把X+Y 的結果 存到 self.sum 裡面"
   ]
  },
  {
   "cell_type": "code",
   "execution_count": null,
   "metadata": {},
   "outputs": [],
   "source": [
    "new_instance1 = mytype()\n",
    "\n",
    "new_instance1.a = 10\n",
    "new_instance1.b = \"newtypeA\"\n",
    "new_instance1.c = [10,20,30,40,50]\n",
    "\n",
    "new_instance1.print_tmp()\n",
    "new_instance1.add(1,2)\n",
    "print(f'\\nsum:{new_instance1.sum}')"
   ]
  },
  {
   "cell_type": "markdown",
   "metadata": {},
   "source": [
    "### ```二. magic method: ```"
   ]
  },
  {
   "cell_type": "markdown",
   "metadata": {},
   "source": [
    "#### 1. \\_\\_init\\_\\_ (initialize) : 初始化物件的屬性"
   ]
  },
  {
   "cell_type": "markdown",
   "metadata": {},
   "source": [
    "\\_\\_init\\_\\_是一個特殊的函數，當你初始化一個物件時，這個函數會被自動呼叫。\n",
    "也可以對她傳入參數，這些參數會被用來初始化物件的屬性。\n",
    "而self是一個特殊的參數，代表這個物件本身(包含 所有定義的變數及function、還有很多其他較難理解的東西，就先不贅述了)。"
   ]
  },
  {
   "cell_type": "code",
   "execution_count": null,
   "metadata": {},
   "outputs": [],
   "source": [
    "class mytype:\n",
    "    a = 10\n",
    "    def __init__(self, mytext):\n",
    "        self.text = mytext"
   ]
  },
  {
   "cell_type": "code",
   "execution_count": null,
   "metadata": {},
   "outputs": [],
   "source": [
    "new_instance1 = mytype(\"Hello world\")\n",
    "print(f'{new_instance1.text}')\n",
    "print(f'{new_instance1.a}')"
   ]
  },
  {
   "cell_type": "markdown",
   "metadata": {},
   "source": [
    "而\\_\\_init\\_\\_這個method是在我們建立這個物件的時候，會自動被呼叫的method。</br>\n",
    "你可以在這個\\_\\_init\\_\\_裡面定義這個物件的屬性，也可以在\\_\\_init\\_\\_裡面呼叫其他的method。"
   ]
  },
  {
   "cell_type": "markdown",
   "metadata": {},
   "source": [
    "而現在，如果我想要在創建每一個物件時，把參數count往上加來計算我創造了幾個物件，我該怎麼做呢?"
   ]
  },
  {
   "cell_type": "code",
   "execution_count": null,
   "metadata": {},
   "outputs": [],
   "source": [
    "class mytype:\n",
    "    def __init__(self, mytext, mynum):\n",
    "        self.text = mytext\n",
    "        self.count = mynum\n",
    "\n",
    "\n",
    "    def print_count(self):\n",
    "        print(f'{self.text}||count:{self.count}')"
   ]
  },
  {
   "cell_type": "code",
   "execution_count": null,
   "metadata": {},
   "outputs": [],
   "source": [
    "new_instance1 = mytype(\"Hello world\", 1)\n",
    "new_instance1.print_count()\n",
    "new_instance2 = mytype(\"Hello world\", 2)\n",
    "new_instance2.print_count()"
   ]
  },
  {
   "cell_type": "markdown",
   "metadata": {},
   "source": [
    "但是這樣非常沒有效率，因為要自己手動輸入，所以我們可以使用一些上面提到的共用屬性來達到這個目的。"
   ]
  },
  {
   "cell_type": "code",
   "execution_count": null,
   "metadata": {},
   "outputs": [],
   "source": [
    "class mytype:\n",
    "    count = 0\n",
    "\n",
    "    def __init__(self, mytext):\n",
    "        self.text = mytext\n",
    "        mytype.count += 1\n",
    "        self.count = mytype.count\n",
    "    \n",
    "    def print_count(self):\n",
    "        print(f'{self.text}||count:{self.count}')\n"
   ]
  },
  {
   "cell_type": "code",
   "execution_count": null,
   "metadata": {},
   "outputs": [],
   "source": [
    "new_instance1 = mytype(\"inst 1\")\n",
    "new_instance2 = mytype(\"inst 2\")\n",
    "new_instance3 = mytype(\"inst 3\")\n",
    "\n",
    "new_instance1.print_count()\n",
    "new_instance2.print_count()\n",
    "new_instance3.print_count()"
   ]
  },
  {
   "cell_type": "markdown",
   "metadata": {},
   "source": [
    "#### 2. \\_\\_str\\_\\_ : 定義物件被print出來的時候，要如何呈現"
   ]
  },
  {
   "cell_type": "markdown",
   "metadata": {},
   "source": [
    "如果我們直接將他印出來，會發現他只會印出這個物件的記憶體位置，這樣對我們來說並不是很方便。"
   ]
  },
  {
   "cell_type": "code",
   "execution_count": null,
   "metadata": {},
   "outputs": [],
   "source": [
    "new_instance1 = mytype(\"inst 1\")\n",
    "print(new_instance1)"
   ]
  },
  {
   "cell_type": "markdown",
   "metadata": {},
   "source": [
    "所以我們定義\\_\\_str\\_\\_這個method，來告訴python，當我們印出這個物件時，要如何呈現。"
   ]
  },
  {
   "cell_type": "code",
   "execution_count": null,
   "metadata": {},
   "outputs": [],
   "source": [
    "class mytype:\n",
    "    count = 0\n",
    "\n",
    "    def __init__(self, mytext):\n",
    "        self.text = mytext\n",
    "        mytype.count += 1\n",
    "        self.count = mytype.count\n",
    "    \n",
    "    def __str__(self):\n",
    "        return f'{self.text}||count:{self.count}'"
   ]
  },
  {
   "cell_type": "code",
   "execution_count": null,
   "metadata": {},
   "outputs": [],
   "source": [
    "new_instance1 = mytype(\"inst 1\")\n",
    "print(new_instance1)"
   ]
  },
  {
   "cell_type": "markdown",
   "metadata": {},
   "source": [
    "#### 3. \\_\\_add\\_\\_ : 定義物件相加的行為"
   ]
  },
  {
   "cell_type": "code",
   "execution_count": null,
   "metadata": {},
   "outputs": [],
   "source": [
    "class mytype:\n",
    "    def __init__(self, num1, num2):\n",
    "        self.n1 = num1\n",
    "        self.n2 = num2\n",
    "    \n",
    "    def __add__(self, other):\n",
    "        return mytype(self.n1 + other.n1, self.n2 - other.n2)\n",
    "    \n",
    "    def __str__(self):\n",
    "        return f'{self.n1} || {self.n2}'"
   ]
  },
  {
   "cell_type": "code",
   "execution_count": null,
   "metadata": {},
   "outputs": [],
   "source": [
    "new_instance1 = mytype(10, 20)\n",
    "new_instance2 = mytype(30, 40)\n",
    "\n",
    "print(f'{new_instance1+new_instance2}')"
   ]
  },
  {
   "cell_type": "markdown",
   "metadata": {},
   "source": [
    "#### 4. 其他更多的magic method"
   ]
  },
  {
   "cell_type": "markdown",
   "metadata": {},
   "source": [
    "- **數學運算符相關的魔術方法**：</br>\n",
    "\\_\\_add\\_\\_(self, other)：定義加法運算 +。</br>\n",
    "\\_\\_sub\\_\\_(self, other)：定義減法運算 -。</br>\n",
    "\\_\\_mul\\_\\_(self, other)：定義乘法運算 *。</br>\n",
    "\\_\\_truediv\\_\\_(self, other)：定義除法運算 /。</br>\n",
    "\\_\\_floordiv\\_\\_(self, other)：定義整數除法運算 。</br>\n",
    "\\_\\_mod\\_\\_(self, other)：定義取模運算 %。</br>\n",
    "\\_\\_pow\\_\\_(self, other)：定義指數運算 **。</br>\n",
    "\\_\\_and\\_\\_(self, other)：定義按位與運算 &。</br>\n",
    "\\_\\_or\\_\\_(self, other)：定義按位或運算 |。</br>\n",
    "\\_\\_xor\\_\\_(self, other)：定義按位異或運算 ^。</br>\n",
    "\\_\\_lshift\\_\\_(self, other)：定義左移位運算 <<。</br>\n",
    "\\_\\_rshift\\_\\_(self, other)：定義右移位運算 >>。</br>\n",
    "\n",
    "- **反向數學運算符相關的魔術方法**：</br>\n",
    "\\_\\_radd\\_\\_(self, other)：定義反向加法運算。</br>\n",
    "\\_\\_rsub\\_\\_(self, other)：定義反向減法運算。</br>\n",
    "\\_\\_rmul\\_\\_(self, other)：定義反向乘法運算。</br>\n",
    "\\_\\_rtruediv\\_\\_(self, other)：定義反向除法運算。</br>\n",
    "\\_\\_rfloordiv\\_\\_(self, other)：定義反向整數除法運算。</br>\n",
    "\\_\\_rmod\\_\\_(self, other)：定義反向取模運算。</br>\n",
    "\\_\\_rpow\\_\\_(self, other)：定義反向指數運算。</br>\n",
    "\n",
    "\n",
    "- **增量賦值運算符相關的魔術方法**：</br>\n",
    "\\_\\_iadd\\_\\_(self, other)：定義增量加法運算 +=。</br>\n",
    "\\_\\_isub\\_\\_(self, other)：定義增量減法運算 -=。</br>\n",
    "\\_\\_imul\\__(self, other)：定義增量乘法運算 *=。</br>\n",
    "\\_\\_itruediv\\_\\_(self, other)：定義增量除法運算 /=。</br>\n",
    "\\_\\_ifloordiv\\_\\_(self, other)：定義增量整數除法運算 =。</br>\n",
    "\\_\\_imod\\_\\_(self, other)：定義增量取模運算 %=。</br>\n",
    "\\_\\_ipow\\_\\_(self, other)：定義增量指數運算 **=。</br>\n",
    "\n",
    "- **比較運算符相關的魔術方法**：</br>\n",
    "\\_\\_lt\\_\\_(self, other)：定義小於運算 <。</br>\n",
    "\\_\\_le\\_\\_(self, other)：定義小於等於運算 <=。</br>\n",
    "\\_\\_eq\\_\\_(self, other)：定義等於運算 ==。</br>\n",
    "\\_\\_ne\\_\\_(self, other)：定義不等於運算 !=。</br>\n",
    "\\_\\_gt\\_\\_(self, other)：定義大於運算 >。</br>\n",
    "\\_\\_ge\\_\\_(self, other)：定義大於等於運算 >=。</br>\n",
    "\n",
    "- **其他魔術方法**：</br>\n",
    "\\_\\_contains\\_\\_(self, item)：定義成員運算 in。</br>\n",
    "\\_\\_abs\\_\\_(self)：定義絕對值運算 abs()。</br>\n",
    "\\_\\_round\\_\\_(self, n)：定義四捨五入運算 round()。</br>\n",
    "\\_\\_index\\_\\_(self)：定義當對象被用作索引時的行為。</br>"
   ]
  }
 ],
 "metadata": {
  "kernelspec": {
   "display_name": "gdsc_course",
   "language": "python",
   "name": "python3"
  },
  "language_info": {
   "codemirror_mode": {
    "name": "ipython",
    "version": 3
   },
   "file_extension": ".py",
   "mimetype": "text/x-python",
   "name": "python",
   "nbconvert_exporter": "python",
   "pygments_lexer": "ipython3",
   "version": "3.12.4"
  }
 },
 "nbformat": 4,
 "nbformat_minor": 2
}
