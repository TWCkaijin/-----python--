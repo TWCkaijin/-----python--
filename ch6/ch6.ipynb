{
 "cells": [
  {
   "cell_type": "markdown",
   "metadata": {},
   "source": [
    "# CH5-2 import math 及 import os"
   ]
  },
  {
   "cell_type": "markdown",
   "metadata": {},
   "source": [
    "### Math 函式庫中許多方便的函式可以讓各位做使用"
   ]
  },
  {
   "cell_type": "markdown",
   "metadata": {},
   "source": [
    "#### 1.Math 函式庫"
   ]
  },
  {
   "cell_type": "code",
   "execution_count": null,
   "metadata": {},
   "outputs": [],
   "source": [
    "import math\n",
    "math.__dict__"
   ]
  },
  {
   "cell_type": "code",
   "execution_count": null,
   "metadata": {},
   "outputs": [],
   "source": [
    "# what is math.fabs()\n",
    "print(math.sqrt(25))\n",
    "print(math.fabs(-25))\n",
    "print(math.factorial(5))\n",
    "print(math.floor(3.5))\n",
    "print(math.ceil(3.5)) \n",
    "print(math.pow(2, 3))\n",
    "print(math.log(100, 10))\n",
    "print(math.log10(100))\n",
    "print(math.factorial(5))"
   ]
  },
  {
   "cell_type": "markdown",
   "metadata": {},
   "source": [
    "#### 2.OS 函式庫"
   ]
  },
  {
   "cell_type": "code",
   "execution_count": 2,
   "metadata": {},
   "outputs": [
    {
     "data": {
      "text/plain": [
       "13"
      ]
     },
     "execution_count": 2,
     "metadata": {},
     "output_type": "execute_result"
    }
   ],
   "source": [
    "import os\n",
    "os.__dict__\n"
   ]
  },
  {
   "cell_type": "code",
   "execution_count": null,
   "metadata": {},
   "outputs": [],
   "source": [
    "f = open('test.txt', 'w')\n",
    "f.write('Hello, world!')\n",
    "f.closed()"
   ]
  },
  {
   "cell_type": "code",
   "execution_count": 5,
   "metadata": {},
   "outputs": [
    {
     "name": "stdout",
     "output_type": "stream",
     "text": [
      "13\n"
     ]
    }
   ],
   "source": [
    "print(os.path.getsize('test.txt'))\n",
    "os.remove('test.txt')"
   ]
  },
  {
   "cell_type": "code",
   "execution_count": 18,
   "metadata": {},
   "outputs": [
    {
     "name": "stdout",
     "output_type": "stream",
     "text": [
      "1.\n",
      "\n",
      "file write\n",
      "\n",
      "2.\n",
      "48961568484164878894614861\n",
      "489161587\n",
      "mtunhrgbfvdvfbetgrny\n",
      "\n",
      "3.\n",
      "48961568484164878894614861\n",
      "\n",
      "\n",
      "4.\n",
      "['48961568484164878894614861\\n', '489161587\\n', 'mtunhrgbfvdvfbetgrny']\n"
     ]
    }
   ],
   "source": [
    "# file mode 'r' 是純讀取,  'w' 純寫入,  'a'是純新增\n",
    "# file mode 'r+','w+','a+' 是讀寫模式\n",
    "\n",
    "\n",
    "print(\"1.\\n\")\n",
    "with open(os.getcwd() + '/test.txt', 'w') as f:\n",
    "    f.write('48961568484164878894614861\\n489161587\\nmtunhrgbfvdvfbetgrny')\n",
    "    f.close()\n",
    "    print(\"file write\")\n",
    "\n",
    "print(\"\\n2.\")\n",
    "with open(os.getcwd() + '/test.txt', 'r') as f:\n",
    "    content = f.read()\n",
    "    print(content)\n",
    "    f.close()\n",
    "\n",
    "print(\"\\n3.\")\n",
    "with open(os.getcwd() + '/test.txt', 'r') as f:\n",
    "    print(f.readline())\n",
    "    f.close()\n",
    "\n",
    "print(\"\\n4.\")\n",
    "with open(os.getcwd() + '/test.txt', 'r') as f:\n",
    "    print(f.readlines())\n",
    "    f.close()"
   ]
  },
  {
   "cell_type": "markdown",
   "metadata": {},
   "source": [
    "#### 3.random 函式庫"
   ]
  },
  {
   "cell_type": "code",
   "execution_count": 21,
   "metadata": {},
   "outputs": [
    {
     "data": {
      "text/plain": [
       "{'__name__': 'random',\n",
       " '__doc__': 'Random variable generators.\\n\\n    bytes\\n    -----\\n           uniform bytes (values between 0 and 255)\\n\\n    integers\\n    --------\\n           uniform within range\\n\\n    sequences\\n    ---------\\n           pick random element\\n           pick random sample\\n           pick weighted random sample\\n           generate random permutation\\n\\n    distributions on the real line:\\n    ------------------------------\\n           uniform\\n           triangular\\n           normal (Gaussian)\\n           lognormal\\n           negative exponential\\n           gamma\\n           beta\\n           pareto\\n           Weibull\\n\\n    distributions on the circle (angles 0 to 2pi)\\n    ---------------------------------------------\\n           circular uniform\\n           von Mises\\n\\n    discrete distributions\\n    ----------------------\\n           binomial\\n\\n\\nGeneral notes on the underlying Mersenne Twister core generator:\\n\\n* The period is 2**19937-1.\\n* It is one of the most extensively tested generators in existence.\\n* The random() method is implemented in C, executes in a single Python step,\\n  and is, therefore, threadsafe.\\n\\n',\n",
       " '__package__': '',\n",
       " '__loader__': <_frozen_importlib_external.SourceFileLoader at 0x262e0f770b0>,\n",
       " '__spec__': ModuleSpec(name='random', loader=<_frozen_importlib_external.SourceFileLoader object at 0x00000262E0F770B0>, origin='d:\\\\miniconda\\\\envs\\\\gdsc_course\\\\Lib\\\\random.py'),\n",
       " '__file__': 'd:\\\\miniconda\\\\envs\\\\gdsc_course\\\\Lib\\\\random.py',\n",
       " '__cached__': 'd:\\\\miniconda\\\\envs\\\\gdsc_course\\\\Lib\\\\__pycache__\\\\random.cpython-312.pyc',\n",
       " '__builtins__': {'__name__': 'builtins',\n",
       "  '__doc__': \"Built-in functions, types, exceptions, and other objects.\\n\\nThis module provides direct access to all 'built-in'\\nidentifiers of Python; for example, builtins.len is\\nthe full name for the built-in function len().\\n\\nThis module is not normally accessed explicitly by most\\napplications, but can be useful in modules that provide\\nobjects with the same name as a built-in value, but in\\nwhich the built-in of that name is also needed.\",\n",
       "  '__package__': '',\n",
       "  '__loader__': _frozen_importlib.BuiltinImporter,\n",
       "  '__spec__': ModuleSpec(name='builtins', loader=<class '_frozen_importlib.BuiltinImporter'>, origin='built-in'),\n",
       "  '__build_class__': <function __build_class__>,\n",
       "  '__import__': <function __import__(name, globals=None, locals=None, fromlist=(), level=0)>,\n",
       "  'abs': <function abs(x, /)>,\n",
       "  'all': <function all(iterable, /)>,\n",
       "  'any': <function any(iterable, /)>,\n",
       "  'ascii': <function ascii(obj, /)>,\n",
       "  'bin': <function bin(number, /)>,\n",
       "  'breakpoint': <function breakpoint>,\n",
       "  'callable': <function callable(obj, /)>,\n",
       "  'chr': <function chr(i, /)>,\n",
       "  'compile': <function compile(source, filename, mode, flags=0, dont_inherit=False, optimize=-1, *, _feature_version=-1)>,\n",
       "  'delattr': <function delattr(obj, name, /)>,\n",
       "  'dir': <function dir>,\n",
       "  'divmod': <function divmod(x, y, /)>,\n",
       "  'eval': <function eval(source, globals=None, locals=None, /)>,\n",
       "  'exec': <function exec(source, globals=None, locals=None, /, *, closure=None)>,\n",
       "  'format': <function format(value, format_spec='', /)>,\n",
       "  'getattr': <function getattr>,\n",
       "  'globals': <function globals()>,\n",
       "  'hasattr': <function hasattr(obj, name, /)>,\n",
       "  'hash': <function hash(obj, /)>,\n",
       "  'hex': <function hex(number, /)>,\n",
       "  'id': <function id(obj, /)>,\n",
       "  'input': <bound method Kernel.raw_input of <ipykernel.ipkernel.IPythonKernel object at 0x00000262E4AF6210>>,\n",
       "  'isinstance': <function isinstance(obj, class_or_tuple, /)>,\n",
       "  'issubclass': <function issubclass(cls, class_or_tuple, /)>,\n",
       "  'iter': <function iter>,\n",
       "  'aiter': <function aiter(async_iterable, /)>,\n",
       "  'len': <function len(obj, /)>,\n",
       "  'locals': <function locals()>,\n",
       "  'max': <function max>,\n",
       "  'min': <function min>,\n",
       "  'next': <function next>,\n",
       "  'anext': <function anext>,\n",
       "  'oct': <function oct(number, /)>,\n",
       "  'ord': <function ord(c, /)>,\n",
       "  'pow': <function pow(base, exp, mod=None)>,\n",
       "  'print': <function print(*args, sep=' ', end='\\n', file=None, flush=False)>,\n",
       "  'repr': <function repr(obj, /)>,\n",
       "  'round': <function round(number, ndigits=None)>,\n",
       "  'setattr': <function setattr(obj, name, value, /)>,\n",
       "  'sorted': <function sorted(iterable, /, *, key=None, reverse=False)>,\n",
       "  'sum': <function sum(iterable, /, start=0)>,\n",
       "  'vars': <function vars>,\n",
       "  'None': None,\n",
       "  'Ellipsis': Ellipsis,\n",
       "  'NotImplemented': NotImplemented,\n",
       "  'False': False,\n",
       "  'True': True,\n",
       "  'bool': bool,\n",
       "  'memoryview': memoryview,\n",
       "  'bytearray': bytearray,\n",
       "  'bytes': bytes,\n",
       "  'classmethod': classmethod,\n",
       "  'complex': complex,\n",
       "  'dict': dict,\n",
       "  'enumerate': enumerate,\n",
       "  'filter': filter,\n",
       "  'float': float,\n",
       "  'frozenset': frozenset,\n",
       "  'property': property,\n",
       "  'int': int,\n",
       "  'list': list,\n",
       "  'map': map,\n",
       "  'object': object,\n",
       "  'range': range,\n",
       "  'reversed': reversed,\n",
       "  'set': set,\n",
       "  'slice': slice,\n",
       "  'staticmethod': staticmethod,\n",
       "  'str': str,\n",
       "  'super': super,\n",
       "  'tuple': tuple,\n",
       "  'type': type,\n",
       "  'zip': zip,\n",
       "  '__debug__': True,\n",
       "  'BaseException': BaseException,\n",
       "  'BaseExceptionGroup': BaseExceptionGroup,\n",
       "  'Exception': Exception,\n",
       "  'GeneratorExit': GeneratorExit,\n",
       "  'KeyboardInterrupt': KeyboardInterrupt,\n",
       "  'SystemExit': SystemExit,\n",
       "  'ArithmeticError': ArithmeticError,\n",
       "  'AssertionError': AssertionError,\n",
       "  'AttributeError': AttributeError,\n",
       "  'BufferError': BufferError,\n",
       "  'EOFError': EOFError,\n",
       "  'ImportError': ImportError,\n",
       "  'LookupError': LookupError,\n",
       "  'MemoryError': MemoryError,\n",
       "  'NameError': NameError,\n",
       "  'OSError': OSError,\n",
       "  'ReferenceError': ReferenceError,\n",
       "  'RuntimeError': RuntimeError,\n",
       "  'StopAsyncIteration': StopAsyncIteration,\n",
       "  'StopIteration': StopIteration,\n",
       "  'SyntaxError': SyntaxError,\n",
       "  'SystemError': SystemError,\n",
       "  'TypeError': TypeError,\n",
       "  'ValueError': ValueError,\n",
       "  'Warning': Warning,\n",
       "  'FloatingPointError': FloatingPointError,\n",
       "  'OverflowError': OverflowError,\n",
       "  'ZeroDivisionError': ZeroDivisionError,\n",
       "  'BytesWarning': BytesWarning,\n",
       "  'DeprecationWarning': DeprecationWarning,\n",
       "  'EncodingWarning': EncodingWarning,\n",
       "  'FutureWarning': FutureWarning,\n",
       "  'ImportWarning': ImportWarning,\n",
       "  'PendingDeprecationWarning': PendingDeprecationWarning,\n",
       "  'ResourceWarning': ResourceWarning,\n",
       "  'RuntimeWarning': RuntimeWarning,\n",
       "  'SyntaxWarning': SyntaxWarning,\n",
       "  'UnicodeWarning': UnicodeWarning,\n",
       "  'UserWarning': UserWarning,\n",
       "  'BlockingIOError': BlockingIOError,\n",
       "  'ChildProcessError': ChildProcessError,\n",
       "  'ConnectionError': ConnectionError,\n",
       "  'FileExistsError': FileExistsError,\n",
       "  'FileNotFoundError': FileNotFoundError,\n",
       "  'InterruptedError': InterruptedError,\n",
       "  'IsADirectoryError': IsADirectoryError,\n",
       "  'NotADirectoryError': NotADirectoryError,\n",
       "  'PermissionError': PermissionError,\n",
       "  'ProcessLookupError': ProcessLookupError,\n",
       "  'TimeoutError': TimeoutError,\n",
       "  'IndentationError': IndentationError,\n",
       "  'IndexError': IndexError,\n",
       "  'KeyError': KeyError,\n",
       "  'ModuleNotFoundError': ModuleNotFoundError,\n",
       "  'NotImplementedError': NotImplementedError,\n",
       "  'RecursionError': RecursionError,\n",
       "  'UnboundLocalError': UnboundLocalError,\n",
       "  'UnicodeError': UnicodeError,\n",
       "  'BrokenPipeError': BrokenPipeError,\n",
       "  'ConnectionAbortedError': ConnectionAbortedError,\n",
       "  'ConnectionRefusedError': ConnectionRefusedError,\n",
       "  'ConnectionResetError': ConnectionResetError,\n",
       "  'TabError': TabError,\n",
       "  'UnicodeDecodeError': UnicodeDecodeError,\n",
       "  'UnicodeEncodeError': UnicodeEncodeError,\n",
       "  'UnicodeTranslateError': UnicodeTranslateError,\n",
       "  'ExceptionGroup': ExceptionGroup,\n",
       "  'EnvironmentError': OSError,\n",
       "  'IOError': OSError,\n",
       "  'WindowsError': OSError,\n",
       "  'open': <function _io.open(file, mode='r', buffering=-1, encoding=None, errors=None, newline=None, closefd=True, opener=None)>,\n",
       "  'copyright': Copyright (c) 2001-2023 Python Software Foundation.\n",
       "  All Rights Reserved.\n",
       "  \n",
       "  Copyright (c) 2000 BeOpen.com.\n",
       "  All Rights Reserved.\n",
       "  \n",
       "  Copyright (c) 1995-2001 Corporation for National Research Initiatives.\n",
       "  All Rights Reserved.\n",
       "  \n",
       "  Copyright (c) 1991-1995 Stichting Mathematisch Centrum, Amsterdam.\n",
       "  All Rights Reserved.,\n",
       "  'credits':     Thanks to CWI, CNRI, BeOpen.com, Zope Corporation and a cast of thousands\n",
       "      for supporting Python development.  See www.python.org for more information.,\n",
       "  'license': See https://www.python.org/psf/license/,\n",
       "  'help': Type help() for interactive help, or help(object) for help about object.,\n",
       "  'execfile': <function _pydev_bundle._pydev_execfile.execfile(file, glob=None, loc=None)>,\n",
       "  'runfile': <function _pydev_bundle.pydev_umd.runfile(filename, args=None, wdir=None, namespace=None)>,\n",
       "  '__IPYTHON__': True,\n",
       "  'display': <function IPython.core.display_functions.display(*objs, include=None, exclude=None, metadata=None, transient=None, display_id=None, raw=False, clear=False, **kwargs)>,\n",
       "  'get_ipython': <bound method InteractiveShell.get_ipython of <ipykernel.zmqshell.ZMQInteractiveShell object at 0x00000262E6151DC0>>},\n",
       " '_warn': <function _warnings.warn>,\n",
       " '_log': <function math.log>,\n",
       " '_exp': <function math.exp(x, /)>,\n",
       " '_pi': 3.141592653589793,\n",
       " '_e': 2.718281828459045,\n",
       " '_ceil': <function math.ceil(x, /)>,\n",
       " '_sqrt': <function math.sqrt(x, /)>,\n",
       " '_acos': <function math.acos(x, /)>,\n",
       " '_cos': <function math.cos(x, /)>,\n",
       " '_sin': <function math.sin(x, /)>,\n",
       " 'TWOPI': 6.283185307179586,\n",
       " '_floor': <function math.floor(x, /)>,\n",
       " '_isfinite': <function math.isfinite(x, /)>,\n",
       " '_lgamma': <function math.lgamma(x, /)>,\n",
       " '_fabs': <function math.fabs(x, /)>,\n",
       " '_log2': <function math.log2(x, /)>,\n",
       " '_urandom': <function nt.urandom(size, /)>,\n",
       " '_Sequence': collections.abc.Sequence,\n",
       " '_index': <function _operator.index(a, /)>,\n",
       " '_accumulate': itertools.accumulate,\n",
       " '_repeat': itertools.repeat,\n",
       " '_bisect': <function _bisect.bisect_right(a, x, lo=0, hi=None, *, key=None)>,\n",
       " '_os': <module 'os' (frozen)>,\n",
       " '_random': <module '_random' (built-in)>,\n",
       " '_sha512': <function _sha2.sha512(string=b'', *, usedforsecurity=True)>,\n",
       " '__all__': ['Random',\n",
       "  'SystemRandom',\n",
       "  'betavariate',\n",
       "  'binomialvariate',\n",
       "  'choice',\n",
       "  'choices',\n",
       "  'expovariate',\n",
       "  'gammavariate',\n",
       "  'gauss',\n",
       "  'getrandbits',\n",
       "  'getstate',\n",
       "  'lognormvariate',\n",
       "  'normalvariate',\n",
       "  'paretovariate',\n",
       "  'randbytes',\n",
       "  'randint',\n",
       "  'random',\n",
       "  'randrange',\n",
       "  'sample',\n",
       "  'seed',\n",
       "  'setstate',\n",
       "  'shuffle',\n",
       "  'triangular',\n",
       "  'uniform',\n",
       "  'vonmisesvariate',\n",
       "  'weibullvariate'],\n",
       " 'NV_MAGICCONST': 1.7155277699214135,\n",
       " 'LOG4': 1.3862943611198906,\n",
       " 'SG_MAGICCONST': 2.504077396776274,\n",
       " 'BPF': 53,\n",
       " 'RECIP_BPF': 1.1102230246251565e-16,\n",
       " '_ONE': 1,\n",
       " 'Random': random.Random,\n",
       " 'SystemRandom': random.SystemRandom,\n",
       " '_inst': <random.Random at 0x262e0d92dc0>,\n",
       " 'seed': <bound method Random.seed of <random.Random object at 0x00000262E0D92DC0>>,\n",
       " 'random': <function Random.random()>,\n",
       " 'uniform': <bound method Random.uniform of <random.Random object at 0x00000262E0D92DC0>>,\n",
       " 'triangular': <bound method Random.triangular of <random.Random object at 0x00000262E0D92DC0>>,\n",
       " 'randint': <bound method Random.randint of <random.Random object at 0x00000262E0D92DC0>>,\n",
       " 'choice': <bound method Random.choice of <random.Random object at 0x00000262E0D92DC0>>,\n",
       " 'randrange': <bound method Random.randrange of <random.Random object at 0x00000262E0D92DC0>>,\n",
       " 'sample': <bound method Random.sample of <random.Random object at 0x00000262E0D92DC0>>,\n",
       " 'shuffle': <bound method Random.shuffle of <random.Random object at 0x00000262E0D92DC0>>,\n",
       " 'choices': <bound method Random.choices of <random.Random object at 0x00000262E0D92DC0>>,\n",
       " 'normalvariate': <bound method Random.normalvariate of <random.Random object at 0x00000262E0D92DC0>>,\n",
       " 'lognormvariate': <bound method Random.lognormvariate of <random.Random object at 0x00000262E0D92DC0>>,\n",
       " 'expovariate': <bound method Random.expovariate of <random.Random object at 0x00000262E0D92DC0>>,\n",
       " 'vonmisesvariate': <bound method Random.vonmisesvariate of <random.Random object at 0x00000262E0D92DC0>>,\n",
       " 'gammavariate': <bound method Random.gammavariate of <random.Random object at 0x00000262E0D92DC0>>,\n",
       " 'gauss': <bound method Random.gauss of <random.Random object at 0x00000262E0D92DC0>>,\n",
       " 'betavariate': <bound method Random.betavariate of <random.Random object at 0x00000262E0D92DC0>>,\n",
       " 'binomialvariate': <bound method Random.binomialvariate of <random.Random object at 0x00000262E0D92DC0>>,\n",
       " 'paretovariate': <bound method Random.paretovariate of <random.Random object at 0x00000262E0D92DC0>>,\n",
       " 'weibullvariate': <bound method Random.weibullvariate of <random.Random object at 0x00000262E0D92DC0>>,\n",
       " 'getstate': <bound method Random.getstate of <random.Random object at 0x00000262E0D92DC0>>,\n",
       " 'setstate': <bound method Random.setstate of <random.Random object at 0x00000262E0D92DC0>>,\n",
       " 'getrandbits': <function Random.getrandbits(k, /)>,\n",
       " 'randbytes': <bound method Random.randbytes of <random.Random object at 0x00000262E0D92DC0>>,\n",
       " '_test_generator': <function random._test_generator(n, func, args)>,\n",
       " '_test': <function random._test(N=10000)>}"
      ]
     },
     "execution_count": 21,
     "metadata": {},
     "output_type": "execute_result"
    }
   ],
   "source": [
    "import random as r\n",
    "r.__dict__"
   ]
  },
  {
   "cell_type": "code",
   "execution_count": 38,
   "metadata": {},
   "outputs": [
    {
     "name": "stdout",
     "output_type": "stream",
     "text": [
      "0.22383104012958965\n"
     ]
    }
   ],
   "source": [
    "r.seed(r.random()) # 設定隨機種子\n",
    "print(r.random())"
   ]
  },
  {
   "cell_type": "code",
   "execution_count": 61,
   "metadata": {},
   "outputs": [
    {
     "name": "stdout",
     "output_type": "stream",
     "text": [
      "\n",
      "1.\n",
      "15\n",
      "\n",
      "2.\n",
      "33.890357776934884\n",
      "\n",
      "3.\n",
      "51\n"
     ]
    }
   ],
   "source": [
    "print(\"\\n1.\")\n",
    "print(r.randint(1, 100))\n",
    "\n",
    "print(\"\\n2.\")\n",
    "print(r.uniform(1, 100))\n",
    "\n",
    "print(\"\\n3.\")\n",
    "print(r.randrange(1, 100, 10))"
   ]
  },
  {
   "cell_type": "markdown",
   "metadata": {},
   "source": [
    "#### 4.time 函式庫"
   ]
  },
  {
   "cell_type": "code",
   "execution_count": 24,
   "metadata": {},
   "outputs": [
    {
     "data": {
      "text/plain": [
       "{'__name__': 'time',\n",
       " '__doc__': 'This module provides various functions to manipulate time values.\\n\\nThere are two standard representations of time.  One is the number\\nof seconds since the Epoch, in UTC (a.k.a. GMT).  It may be an integer\\nor a floating point number (to represent fractions of seconds).\\nThe epoch is the point where the time starts, the return value of time.gmtime(0).\\nIt is January 1, 1970, 00:00:00 (UTC) on all platforms.\\n\\nThe other representation is a tuple of 9 integers giving local time.\\nThe tuple items are:\\n  year (including century, e.g. 1998)\\n  month (1-12)\\n  day (1-31)\\n  hours (0-23)\\n  minutes (0-59)\\n  seconds (0-59)\\n  weekday (0-6, Monday is 0)\\n  Julian day (day in the year, 1-366)\\n  DST (Daylight Savings Time) flag (-1, 0 or 1)\\nIf the DST flag is 0, the time is given in the regular time zone;\\nif it is 1, the time is given in the DST time zone;\\nif it is -1, mktime() should guess based on the date and time.\\n',\n",
       " '__package__': '',\n",
       " '__loader__': _frozen_importlib.BuiltinImporter,\n",
       " '__spec__': ModuleSpec(name='time', loader=<class '_frozen_importlib.BuiltinImporter'>, origin='built-in'),\n",
       " 'time': <function time.time>,\n",
       " 'time_ns': <function time.time_ns>,\n",
       " 'sleep': <function time.sleep>,\n",
       " 'gmtime': <function time.gmtime>,\n",
       " 'localtime': <function time.localtime>,\n",
       " 'asctime': <function time.asctime>,\n",
       " 'ctime': <function time.ctime>,\n",
       " 'mktime': <function time.mktime>,\n",
       " 'strftime': <function time.strftime>,\n",
       " 'strptime': <function time.strptime>,\n",
       " 'monotonic': <function time.monotonic>,\n",
       " 'monotonic_ns': <function time.monotonic_ns>,\n",
       " 'process_time': <function time.process_time>,\n",
       " 'process_time_ns': <function time.process_time_ns>,\n",
       " 'thread_time': <function time.thread_time>,\n",
       " 'thread_time_ns': <function time.thread_time_ns>,\n",
       " 'perf_counter': <function time.perf_counter>,\n",
       " 'perf_counter_ns': <function time.perf_counter_ns>,\n",
       " 'get_clock_info': <function time.get_clock_info>,\n",
       " 'timezone': -28800,\n",
       " 'altzone': -32400,\n",
       " 'daylight': 0,\n",
       " 'tzname': ('台北標準時間', '台北日光節約時間'),\n",
       " '_STRUCT_TM_ITEMS': 11,\n",
       " 'struct_time': time.struct_time}"
      ]
     },
     "execution_count": 24,
     "metadata": {},
     "output_type": "execute_result"
    }
   ],
   "source": [
    "import time as t\n",
    "t.__dict__"
   ]
  },
  {
   "cell_type": "code",
   "execution_count": 27,
   "metadata": {},
   "outputs": [
    {
     "name": "stdout",
     "output_type": "stream",
     "text": [
      "\n",
      "1.\n",
      "time.struct_time(tm_year=2024, tm_mon=10, tm_mday=25, tm_hour=10, tm_min=25, tm_sec=3, tm_wday=4, tm_yday=299, tm_isdst=0)\n",
      "\n",
      "2.\n",
      "Fri Oct 25 10:25:03 2024\n"
     ]
    }
   ],
   "source": [
    "print(\"\\n1.\")\n",
    "print(t.time())\n",
    "\n",
    "print(\"\\n2.\")\n",
    "print(t.localtime())\n",
    "\n",
    "print(\"\\n3.\")\n",
    "print(t.asctime(t.localtime()))"
   ]
  }
 ],
 "metadata": {
  "kernelspec": {
   "display_name": "gdsc_course",
   "language": "python",
   "name": "python3"
  },
  "language_info": {
   "codemirror_mode": {
    "name": "ipython",
    "version": 3
   },
   "file_extension": ".py",
   "mimetype": "text/x-python",
   "name": "python",
   "nbconvert_exporter": "python",
   "pygments_lexer": "ipython3",
   "version": "3.12.4"
  }
 },
 "nbformat": 4,
 "nbformat_minor": 2
}
