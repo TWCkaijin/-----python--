{
 "cells": [
  {
   "cell_type": "markdown",
   "metadata": {},
   "source": [
    "# ch6-2 class 進階運用"
   ]
  },
  {
   "cell_type": "markdown",
   "metadata": {},
   "source": [
    "上一篇我們跟各位介紹了class的基本用法，這一篇我們要來介紹一些進階的用法，讓大家更了解class的運作方式。"
   ]
  },
  {
   "cell_type": "markdown",
   "metadata": {},
   "source": [
    "### ```一. class的繼承 (Inheritance)```"
   ]
  },
  {
   "cell_type": "markdown",
   "metadata": {},
   "source": [
    "#### 1.基本繼承 "
   ]
  },
  {
   "cell_type": "markdown",
   "metadata": {},
   "source": [
    "\"繼承\"是class的一個重要特性，它可以讓我們建立一個新的class，並且讓這個新的class可以繼承原本class的屬性和方法。這樣我們就可以在不改變原本class的情況下，擴充原本class的功能。"
   ]
  },
  {
   "cell_type": "code",
   "execution_count": null,
   "metadata": {},
   "outputs": [],
   "source": [
    "#先定義一個基本的class\n",
    "class vehicle:\n",
    "    def __init__(self,brand,color,v_type):\n",
    "        self.brand = brand\n",
    "        self.color = color\n",
    "        self.vehicle_type = v_type\n",
    "    def run(self):\n",
    "        print(f'The {self.vehicle_type} is running')\n",
    "    def stop(self):\n",
    "        print(f'The {self.vehicle_type} is stop')\n"
   ]
  },
  {
   "cell_type": "code",
   "execution_count": null,
   "metadata": {},
   "outputs": [],
   "source": [
    "#定義一個繼承vehicle的class car以及bike\n",
    "class car(vehicle):\n",
    "    pass\n",
    "\n",
    "class bike(vehicle):\n",
    "    pass"
   ]
  },
  {
   "cell_type": "markdown",
   "metadata": {},
   "source": [
    "這邊的 新屬性 car、bike 會繼承自 Vehicle。\n",
    "\n",
    "而super()是用來呼叫父類別的方法，這樣我們就可以在子類別中使用父類別的方法。\n",
    "(因為magic method 是不會被繼承的)\n",
    "\n"
   ]
  },
  {
   "cell_type": "code",
   "execution_count": null,
   "metadata": {},
   "outputs": [],
   "source": [
    "#這樣我們就可以使用car以及bike的物件\n",
    "\n",
    "car1 = car('Toyota','Red','Car')\n",
    "car1.run()\n",
    "car1.stop()\n",
    "\n",
    "bike1 = bike('Yamaha','Blue','Bike')\n",
    "bike1.run()\n",
    "bike1.stop()"
   ]
  },
  {
   "cell_type": "markdown",
   "metadata": {},
   "source": [
    "#### 2. 繼承後複寫"
   ]
  },
  {
   "cell_type": "markdown",
   "metadata": {},
   "source": [
    "這邊我們重新定義一個繼承vehicle的class car以及bike</br>\n",
    "不過新增一些參數"
   ]
  },
  {
   "cell_type": "code",
   "execution_count": null,
   "metadata": {},
   "outputs": [],
   "source": [
    "class car(vehicle):\n",
    "    def __init__(self,brand,color,v_type, seats):\n",
    "        super().__init__(brand,color,v_type)\n",
    "        self.seats = seats\n",
    "\n",
    "class bike(vehicle):\n",
    "    def __init__(self,brand,color,v_type, wheels_type):\n",
    "        super().__init__(brand,color,v_type)\n",
    "        self.wheels = wheels_type"
   ]
  },
  {
   "cell_type": "markdown",
   "metadata": {},
   "source": [
    "因為我們在新的class 中重新定義了\\_\\_init\\_\\_ ，所以無法再直接呼叫父類別的\\_\\_init\\_\\_</br>\n",
    "所以我們在子類別中重新定義時，需要使用父類別\\_\\_init\\_\\_方法的結果，這時候我們可以使用super()方法，來呼叫父類別的\\_\\_init\\_\\_方法。"
   ]
  },
  {
   "cell_type": "code",
   "execution_count": null,
   "metadata": {},
   "outputs": [],
   "source": []
  }
 ],
 "metadata": {
  "kernelspec": {
   "display_name": "gdsc_course",
   "language": "python",
   "name": "python3"
  },
  "language_info": {
   "codemirror_mode": {
    "name": "ipython",
    "version": 3
   },
   "file_extension": ".py",
   "mimetype": "text/x-python",
   "name": "python",
   "nbconvert_exporter": "python",
   "pygments_lexer": "ipython3",
   "version": "3.12.3"
  }
 },
 "nbformat": 4,
 "nbformat_minor": 2
}
