{
 "cells": [
  {
   "cell_type": "markdown",
   "metadata": {},
   "source": [
    "# API Introduction\n",
    "\n",
    "這個 notebook 旨在演示 API如何運作. 我們將會講解以下的內容:\n",
    "- 發送\"POST\"請求\n",
    "- 處理請求的\"response\"\n",
    "- 處理status參數\n",
    "- 處理請求的\"response\"的\"content\"\n",
    "\n",
    "- async/await 甚麼?\n",
    "\n",
    "Let's get started!"
   ]
  },
  {
   "cell_type": "markdown",
   "metadata": {},
   "source": [
    "### 0.設定環境\n",
    "首先，我們需要安裝`requests`庫。\n"
   ]
  },
  {
   "cell_type": "code",
   "execution_count": null,
   "metadata": {},
   "outputs": [],
   "source": [
    "%pip install requests"
   ]
  },
  {
   "cell_type": "markdown",
   "metadata": {},
   "source": [
    "安裝完成後，import `requests`庫。"
   ]
  },
  {
   "cell_type": "code",
   "execution_count": null,
   "metadata": {},
   "outputs": [],
   "source": [
    "import requests"
   ]
  },
  {
   "cell_type": "markdown",
   "metadata": {},
   "source": [
    "### 1.Get 方法\n"
   ]
  },
  {
   "cell_type": "markdown",
   "metadata": {},
   "source": [
    "我們可以使用`requests.get()`方法來發送GET請求。 ()中的參數是我們要訪問的網址。"
   ]
  },
  {
   "cell_type": "code",
   "execution_count": null,
   "metadata": {},
   "outputs": [],
   "source": [
    "# 203-15\n",
    "stu_id = input(\"輸入班級座號(例如: 2年三班 12號 -> 203-12):\")\n",
    "response = requests.get(f'https://us-central1-gdsc-web-2d5fa.cloudfunctions.net/api/mcsh_course?user={stu_id}')"
   ]
  },
  {
   "cell_type": "markdown",
   "metadata": {},
   "source": [
    "### 2.處理response(伺服器回傳的封包)"
   ]
  },
  {
   "cell_type": "code",
   "execution_count": null,
   "metadata": {},
   "outputs": [],
   "source": [
    "print(response)"
   ]
  },
  {
   "cell_type": "markdown",
   "metadata": {},
   "source": [
    "- 我們好像沒有辦法直接看到response的內容。但是我們可以透過逐一檢查response的屬性來獲取response的內容。"
   ]
  },
  {
   "cell_type": "code",
   "execution_count": null,
   "metadata": {},
   "outputs": [],
   "source": [
    "print('Status Code:', response.status_code)\n",
    "print('Headers:', response.headers)\n",
    "print('Content:', response.text)\n",
    "print('URL:', response.url)\n",
    "print('Encoding:', response.encoding)\n",
    "print('Elapsed Time:', response.elapsed)\n",
    "print('Request Headers:', response.request.headers)\n",
    "print('Request Method:', response.request.method)\n",
    "print('Request URL:', response.request.url)"
   ]
  },
  {
   "cell_type": "markdown",
   "metadata": {},
   "source": [
    "### 3.處理status參數\n",
    "伺服器會定義一個參數叫做status，這個參數會告訴我們請求是否成功(不成功有可能是伺服器錯誤、網路錯誤、資訊錯誤等等)。我們可以透過`response.status_code`來獲取status參數。\n",
    "\n",
    "一些常見的status code:\n",
    "- 200: 請求成功\n",
    "- 404: 伺服器找不到請求的網頁(或API)\n",
    "- 500: 伺服器錯誤\n"
   ]
  },
  {
   "cell_type": "code",
   "execution_count": null,
   "metadata": {},
   "outputs": [],
   "source": [
    "print(response.status_code) "
   ]
  },
  {
   "cell_type": "markdown",
   "metadata": {},
   "source": [
    "### 4.處理response的content"
   ]
  },
  {
   "cell_type": "markdown",
   "metadata": {},
   "source": [
    "我們可以發現主要的訊息都在 `content`中。\n",
    "可以透過 respone.text 來取得內容。"
   ]
  },
  {
   "cell_type": "code",
   "execution_count": null,
   "metadata": {},
   "outputs": [],
   "source": [
    "print('Content:', response.text)"
   ]
  },
  {
   "cell_type": "code",
   "execution_count": null,
   "metadata": {},
   "outputs": [],
   "source": []
  }
 ],
 "metadata": {
  "kernelspec": {
   "display_name": "gdsc_course",
   "language": "python",
   "name": "python3"
  },
  "language_info": {
   "codemirror_mode": {
    "name": "ipython",
    "version": 3
   },
   "file_extension": ".py",
   "mimetype": "text/x-python",
   "name": "python",
   "nbconvert_exporter": "python",
   "pygments_lexer": "ipython3",
   "version": "3.12.3"
  }
 },
 "nbformat": 4,
 "nbformat_minor": 2
}
