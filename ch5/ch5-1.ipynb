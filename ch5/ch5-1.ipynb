{
 "cells": [
  {
   "cell_type": "markdown",
   "metadata": {},
   "source": [
    "# Ch5-1 methods and variables level"
   ]
  },
  {
   "cell_type": "markdown",
   "metadata": {},
   "source": [
    "### 無回傳值函數"
   ]
  },
  {
   "cell_type": "code",
   "execution_count": 14,
   "metadata": {},
   "outputs": [],
   "source": [
    "# 使用def來建立自己的函數\n",
    "\n",
    "def my_function():\n",
    "    print(\"Hello From My Function!\")"
   ]
  },
  {
   "cell_type": "code",
   "execution_count": null,
   "metadata": {},
   "outputs": [],
   "source": [
    "#需要額外去呼叫函數，上面的函數只是定義，並沒有執行\n",
    "\n",
    "my_function()"
   ]
  },
  {
   "cell_type": "code",
   "execution_count": 20,
   "metadata": {},
   "outputs": [],
   "source": [
    "#如果函數需要可以接受參數，可以在括號內加入參數\n",
    "\n",
    "def my_function(name, text):\n",
    "    print(f\"Hello {name}, {text}\")"
   ]
  },
  {
   "cell_type": "code",
   "execution_count": null,
   "metadata": {},
   "outputs": [],
   "source": [
    "#一樣，需要額外去呼叫函數，不過這次需要從呼叫的地方傳入參數\n",
    "\n",
    "my_function(\"John\", \"How are you today?\")"
   ]
  },
  {
   "cell_type": "code",
   "execution_count": null,
   "metadata": {},
   "outputs": [],
   "source": [
    "my_name = \"jack\"\n",
    "greeting = \"nice to meet you\"\n",
    "\n",
    "my_function(my_name , greeting)"
   ]
  },
  {
   "cell_type": "markdown",
   "metadata": {},
   "source": [
    "### 具有回傳值(return)的函數"
   ]
  },
  {
   "cell_type": "code",
   "execution_count": null,
   "metadata": {},
   "outputs": [],
   "source": [
    "# 這邊我們將實作一個可以計算兩個數字相加的函數\n",
    "\n",
    "def add(x, y):\n",
    "    return x + y\n",
    "\n",
    "# 這邊我們將實作一個可以計算兩個數字相減的函數\n",
    "def sub(x, y):\n",
    "    return x - y\n",
    "\n",
    "\n",
    "\n",
    "result = add(5, 3)\n",
    "print(result)\n",
    "result = sub(5, 3)\n",
    "print(result)\n"
   ]
  },
  {
   "cell_type": "code",
   "execution_count": null,
   "metadata": {},
   "outputs": [],
   "source": [
    "#我們也可以直接列印\n",
    "\n",
    "print(add(5, 3))\n",
    "print(sub(5, 3))"
   ]
  },
  {
   "cell_type": "code",
   "execution_count": null,
   "metadata": {},
   "outputs": [],
   "source": [
    "#或是進行更複雜的運算\n",
    "\n",
    "print(add(add(5, 3), sub(5, 3)))"
   ]
  },
  {
   "cell_type": "markdown",
   "metadata": {},
   "source": [
    "### 全域變數及區域變數"
   ]
  },
  {
   "cell_type": "code",
   "execution_count": null,
   "metadata": {},
   "outputs": [],
   "source": [
    "#如果想要紀錄函數的運算結果，可以將結果存入\"全域\"變數\n",
    "total = 0\n",
    "\n",
    "def add(x, y, total):\n",
    "    total += x + y\n",
    "    return x+y, total\n",
    "\n",
    "\n",
    "result, total = add(5, 3, total)\n",
    "\n",
    "print(result)\n",
    "\n",
    "result, total = add(6, 2, total)\n",
    "\n",
    "print(total)\n",
    "\n",
    "#如此，在函數內部的total是一個\"區域變數\"，不會影響到外部的total(全域變數)\n",
    "#但請記得，這樣的寫法並不是一個好的寫法，因為這樣的寫法會讓程式變得難以閱讀(區域、全域分不清楚)"
   ]
  },
  {
   "cell_type": "code",
   "execution_count": null,
   "metadata": {},
   "outputs": [],
   "source": [
    "#如果我們想要在函數內部修改全域變數，可以使用global關鍵字\n",
    "\n",
    "total = 0\n",
    "def add(x, y):\n",
    "    global total\n",
    "    total += x + y\n",
    "    return x + y\n",
    "\n",
    "result = add(5, 3)\n",
    "\n",
    "print(result)\n",
    "\n",
    "result = add(6, 2)\n",
    "\n",
    "print(total)\n",
    "\n",
    "\n",
    "#如此一來，我們就可以在函數內部修改全域變數而不用回傳結果了"
   ]
  },
  {
   "cell_type": "markdown",
   "metadata": {},
   "source": [
    "### 遞迴函數\n"
   ]
  },
  {
   "cell_type": "code",
   "execution_count": null,
   "metadata": {},
   "outputs": [],
   "source": [
    "#如果需要一直重複運算直到某個固定條件，可以使用遞迴 (以階層運算\"fatorial\"為例)\n",
    "\n",
    "def fac(n):\n",
    "    if n == 1:\n",
    "        return 1\n",
    "    else:\n",
    "        return n * fac(n-1)\n",
    "    \n",
    "\n",
    "print(fac(5))"
   ]
  },
  {
   "cell_type": "code",
   "execution_count": null,
   "metadata": {},
   "outputs": [],
   "source": [
    "#巴斯卡三角形\n",
    "import math \n",
    "def pascal(column, row ): #col: 直列 | row:橫行\n",
    "\n",
    "        if column==1 or column == row+1:\n",
    "            return 1\n",
    "        else:\n",
    "            return pascal(column, row-1) + pascal(column-1, row-1)\n",
    "\n",
    "fac = int(input(\"請輸入巴斯卡三角形的階層: \"))\n",
    "max_num = pascal(fac//2+1, fac-1)\n",
    "print(max_num)\n",
    "maxlen = int(len(str(max_num)))\n",
    "\n",
    "\n",
    "for i in range(0,fac):\n",
    "    for j in range(1,i+2):\n",
    "        print(f'{pascal(j,i):<{maxlen}}', end=\" \") \n",
    "    print() "
   ]
  },
  {
   "cell_type": "code",
   "execution_count": null,
   "metadata": {},
   "outputs": [],
   "source": []
  }
 ],
 "metadata": {
  "kernelspec": {
   "display_name": "gdsc_course",
   "language": "python",
   "name": "python3"
  },
  "language_info": {
   "codemirror_mode": {
    "name": "ipython",
    "version": 3
   },
   "file_extension": ".py",
   "mimetype": "text/x-python",
   "name": "python",
   "nbconvert_exporter": "python",
   "pygments_lexer": "ipython3",
   "version": "3.12.4"
  }
 },
 "nbformat": 4,
 "nbformat_minor": 2
}
