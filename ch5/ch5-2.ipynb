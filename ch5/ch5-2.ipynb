{
 "cells": [
  {
   "cell_type": "markdown",
   "metadata": {},
   "source": [
    "# CH5-2 常用內建函式庫"
   ]
  },
  {
   "cell_type": "markdown",
   "metadata": {},
   "source": [
    "### Math 函式庫中許多方便的函式可以讓各位做使用"
   ]
  },
  {
   "cell_type": "markdown",
   "metadata": {},
   "source": [
    "#### 1.Math 函式庫"
   ]
  },
  {
   "cell_type": "code",
   "execution_count": null,
   "metadata": {},
   "outputs": [],
   "source": [
    "import math\n",
    "math.__dict__"
   ]
  },
  {
   "cell_type": "code",
   "execution_count": null,
   "metadata": {},
   "outputs": [],
   "source": [
    "print(f'sqrt: {math.sqrt(25)}')\n",
    "print(f'fabs: {math.fabs(-25)}')\n",
    "print(f'factorial: {math.factorial(5)}')\n",
    "print(f'floor: {math.floor(3.5)}')\n",
    "print(f'ceil: {math.ceil(3.5)}')\n",
    "print(f'pow: {math.pow(2, 3)}')\n",
    "print(f'log: {math.log(100, 10)}')\n",
    "print(f'log10: {math.log10(100)}')\n",
    "print(f'factorial: {math.factorial(5)}')"
   ]
  },
  {
   "cell_type": "markdown",
   "metadata": {},
   "source": [
    "#### 2.OS 函式庫"
   ]
  },
  {
   "cell_type": "code",
   "execution_count": null,
   "metadata": {},
   "outputs": [],
   "source": [
    "import os\n",
    "os.__dict__"
   ]
  },
  {
   "cell_type": "code",
   "execution_count": null,
   "metadata": {},
   "outputs": [],
   "source": [
    "f = open('test.txt', 'w')\n",
    "f.write('Hello, world!')\n",
    "f.close()"
   ]
  },
  {
   "cell_type": "code",
   "execution_count": null,
   "metadata": {},
   "outputs": [],
   "source": [
    "print(os.path.getsize('test.txt'))\n",
    "os.remove('test.txt')"
   ]
  },
  {
   "cell_type": "code",
   "execution_count": null,
   "metadata": {},
   "outputs": [],
   "source": [
    "#其實最常用的大概就只有os.getcwd()了，這個函數可以取得目前的工作目錄\n",
    "print(os.getcwd())"
   ]
  },
  {
   "cell_type": "code",
   "execution_count": null,
   "metadata": {},
   "outputs": [],
   "source": [
    "# file mode 'r' 是純讀取,  'w' 純寫入,  'a'是純新增\n",
    "# file mode 'r+','w+','a+' 是讀寫模式\n",
    "\n",
    "\n",
    "print(\"1.\\n\")\n",
    "with open(os.getcwd() + '/test.txt', 'w') as f:\n",
    "    f.write('48961568484164878894614861\\n489161587\\nmtunhrgbfvdvfbetgrny') #寫入檔案\n",
    "    f.close()\n",
    "    print(\"file write\")\n",
    "\n",
    "print(\"\\n2.\")\n",
    "with open(os.getcwd() + '/test.txt', 'r') as f:\n",
    "    content = f.read() #讀取檔案\n",
    "    print(content)\n",
    "    f.close()\n",
    "\n",
    "print(\"\\n3.\")\n",
    "with open(os.getcwd() + '/test.txt', 'r') as f:\n",
    "    content = f.readline() #讀取一行\n",
    "    print(content) \n",
    "    f.close()\n",
    "\n",
    "print(\"\\n4.\")\n",
    "with open(os.getcwd() + '/test.txt', 'r') as f:\n",
    "    content = f.readlines() #讀取所有行，並且以list的形式回傳\n",
    "    print(content) \n",
    "    f.close()"
   ]
  },
  {
   "cell_type": "markdown",
   "metadata": {},
   "source": [
    "#### 3.random 函式庫"
   ]
  },
  {
   "cell_type": "code",
   "execution_count": null,
   "metadata": {},
   "outputs": [],
   "source": [
    "import random as r\n",
    "r.__dict__"
   ]
  },
  {
   "cell_type": "code",
   "execution_count": null,
   "metadata": {},
   "outputs": [],
   "source": [
    "r.seed(r.random()) # 設定隨機種子\n",
    "print(r.random())"
   ]
  },
  {
   "cell_type": "code",
   "execution_count": null,
   "metadata": {},
   "outputs": [],
   "source": [
    "print(\"\\n1.\")  \n",
    "print(r.randint(1, 100)) #隨機整數\n",
    "\n",
    "print(\"\\n2.\")\n",
    "print(r.uniform(1, 100)) #隨機浮點數\n",
    "\n",
    "print(\"\\n3.\")\n",
    "print(r.randrange(1, 100, 10)) #隨機整數，但是可以設定間隔"
   ]
  },
  {
   "cell_type": "markdown",
   "metadata": {},
   "source": [
    "#### 4.time 函式庫"
   ]
  },
  {
   "cell_type": "code",
   "execution_count": null,
   "metadata": {},
   "outputs": [],
   "source": [
    "import time as t\n",
    "t.__dict__"
   ]
  },
  {
   "cell_type": "code",
   "execution_count": null,
   "metadata": {},
   "outputs": [],
   "source": [
    "print(\"\\n1.\")\n",
    "print(t.time())\n",
    "\n",
    "print(\"\\n2.\")\n",
    "print(t.localtime())\n",
    "\n",
    "print(\"\\n3.\")\n",
    "print(t.asctime(t.localtime()))"
   ]
  }
 ],
 "metadata": {
  "kernelspec": {
   "display_name": "gdsc_course",
   "language": "python",
   "name": "python3"
  },
  "language_info": {
   "codemirror_mode": {
    "name": "ipython",
    "version": 3
   },
   "file_extension": ".py",
   "mimetype": "text/x-python",
   "name": "python",
   "nbconvert_exporter": "python",
   "pygments_lexer": "ipython3",
   "version": "3.12.4"
  }
 },
 "nbformat": 4,
 "nbformat_minor": 2
}
