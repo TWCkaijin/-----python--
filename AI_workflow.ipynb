{
 "cells": [
  {
   "cell_type": "markdown",
   "metadata": {},
   "source": [
    "# AI Workflow control\n",
    "## 讓AI來取代你的工作!\n"
   ]
  },
  {
   "cell_type": "markdown",
   "metadata": {},
   "source": [
    "### 0. 安裝套件\n",
    "```bash\n",
    "%pip install google-generativeai\n",
    "```"
   ]
  },
  {
   "cell_type": "code",
   "execution_count": null,
   "metadata": {},
   "outputs": [],
   "source": [
    "%pip install google-generativeai"
   ]
  },
  {
   "cell_type": "markdown",
   "metadata": {},
   "source": [
    "## 1.前情提要: 甚麼是Json?"
   ]
  },
  {
   "cell_type": "markdown",
   "metadata": {},
   "source": [
    "Json的格式是一種輕量級的資料交換格式，易於人閱讀和撰寫，同時也易於機器解析和生成。\n",
    "範例如下: \n",
    "```json\n",
    "{\n",
    "  \"name\": \"John\",\n",
    "  \"age\": 30,\n",
    "  \"city\": \"New York\"\n",
    "}\n",
    "```\n",
    "這邊的name, age, city就是Json的key，而John, 30, New York就是這個Json檔案對應key的value。\n",
    "對於這種資料，我們可以直接的使用python的字典來存取，如下:"
   ]
  },
  {
   "cell_type": "code",
   "execution_count": null,
   "metadata": {},
   "outputs": [],
   "source": [
    "data = {\n",
    "  \"name\": \"John\",\n",
    "  \"age\": 30,\n",
    "  \"city\": \"New York\"\n",
    "}\n",
    "print(data[\"name\"])\n",
    "print(data[\"age\"])\n",
    "print(data[\"city\"])"
   ]
  },
  {
   "cell_type": "markdown",
   "metadata": {},
   "source": [
    "而 python 的 json 模組提供了一個簡單的方式來將字典轉換為 JSON 格式，以及將 JSON 轉換為字典。</br>\n",
    "要特別注意，即使牠的樣子長得很像json，如果他是字串的話，那就不是json，而是字串，所以要先用json.loads()來轉換成json格式。"
   ]
  },
  {
   "cell_type": "code",
   "execution_count": null,
   "metadata": {},
   "outputs": [],
   "source": [
    "#錯誤示範\n",
    "import json\n",
    "\n",
    "text = '{\"name\": \"John\",\"age\": 30,\"city\": \"New York\"}'\n",
    "\n",
    "print(text[\"name\"]) # 因為text是字串，所以無法直接取得name的值，這樣做會出現ERROR"
   ]
  },
  {
   "cell_type": "code",
   "execution_count": null,
   "metadata": {},
   "outputs": [],
   "source": [
    "#正確示範\n",
    "import json\n",
    "\n",
    "text = '{\"name\": \"John\",\"age\": 30,\"city\": \"New York\"}'\n",
    "\n",
    "data = json.loads(text)  # 將字串轉換成json(字典)格式\n",
    "\n",
    "print(data[\"name\"])"
   ]
  },
  {
   "cell_type": "markdown",
   "metadata": {},
   "source": [
    "#### 再來是一些基本的json操作:"
   ]
  },
  {
   "cell_type": "code",
   "execution_count": 44,
   "metadata": {},
   "outputs": [],
   "source": [
    "import json\n",
    "\n",
    "text = '{\"name\": \"John\",\"age\": 30,\"city\": \"New York\"}'\n",
    "data = json.loads(text)"
   ]
  },
  {
   "cell_type": "markdown",
   "metadata": {},
   "source": [
    "新增JOB欄位:"
   ]
  },
  {
   "cell_type": "code",
   "execution_count": null,
   "metadata": {},
   "outputs": [],
   "source": [
    "data.update({\"job\": \"Engineer\"})\n",
    "print(data[\"job\"])"
   ]
  },
  {
   "cell_type": "markdown",
   "metadata": {},
   "source": [
    "把city欄位「推」出來:"
   ]
  },
  {
   "cell_type": "code",
   "execution_count": null,
   "metadata": {},
   "outputs": [],
   "source": [
    "x = data.pop(\"city\")\n",
    "print(data)\n",
    "print(x)"
   ]
  },
  {
   "cell_type": "markdown",
   "metadata": {},
   "source": [
    "新增一個角色:"
   ]
  },
  {
   "cell_type": "code",
   "execution_count": null,
   "metadata": {},
   "outputs": [],
   "source": [
    "data2 = {\"name\":\"david\",\"age\":25,\"job\":\"police\"}\n",
    "data = [data,data2]\n",
    "print(data)"
   ]
  },
  {
   "cell_type": "markdown",
   "metadata": {},
   "source": [
    "## 2.開始設定AI模型 "
   ]
  },
  {
   "cell_type": "markdown",
   "metadata": {},
   "source": [
    "跟之前一樣，我們先設定 model 以及 System Instruction\n",
    "並且使用\n",
    "```python\n",
    "model.start_chat()\n",
    "``` \n",
    "來初始化我們的對話機器人"
   ]
  },
  {
   "cell_type": "markdown",
   "metadata": {},
   "source": [
    "### 請各位自己定義自己的System Instruction，按照ppt上的方式打上你要的工作內容，以及輸出格式。"
   ]
  },
  {
   "cell_type": "code",
   "execution_count": 56,
   "metadata": {},
   "outputs": [],
   "source": [
    "import google.generativeai as genai\n",
    "\n",
    "genai.configure(api_key=\"YOUR_API_KEY\")\n",
    "model = genai.GenerativeModel(\n",
    "    model_name=\"gemini-1.5-flash\",\n",
    "    system_instruction='''\n",
    "    {\"1\":bool,\"2\":bool,\"3\":bool,\"4\":bool,\"5\":bool}\n",
    "    現在依序定義1,2,3,4,5:\n",
    "    1.如果要表示驚喜，印出\"哇，真的假的?\"\n",
    "    2.如果要表示誇讚，印出\"太棒了!!!\"\n",
    "    3.如果要表示安慰，印出\"不要氣餒，繼續努力!\"\n",
    "    4.如果要對方不要生氣印出\"冷靜一下，再試一次。\"\n",
    "    5.如果對方害怕，想要安撫她，印出\"不要害怕，我會幫助你。\"\n",
    "\n",
    "    請依照使用者的輸入來給定我應該輸出那些，請以json格式，並其中的資料為\"序號: true/false\"，true代表印出，false代表不印出\n",
    "    不要其他任何額外的輸出\n",
    "    '''\n",
    "    )"
   ]
  },
  {
   "cell_type": "code",
   "execution_count": 57,
   "metadata": {},
   "outputs": [],
   "source": [
    "chat = model.start_chat()"
   ]
  },
  {
   "cell_type": "markdown",
   "metadata": {},
   "source": [
    "現在，定義你的所有工作內容，等等讓AI來呼叫他!"
   ]
  },
  {
   "cell_type": "code",
   "execution_count": 58,
   "metadata": {},
   "outputs": [],
   "source": [
    "def surprise():\n",
    "    print(\"哇，真的假的?\")\n",
    "\n",
    "def happy():\n",
    "    print(\"太棒了!\")\n",
    "\n",
    "def sad():\n",
    "    print(\"不要氣餒，繼續努力!\")\n",
    "\n",
    "def angry():    \n",
    "    print(\"冷靜一下，再試一次。\")\n",
    "\n",
    "def fear():\n",
    "    print(\"不要害怕，我會幫助你。\")"
   ]
  },
  {
   "cell_type": "markdown",
   "metadata": {},
   "source": [
    "最後，使用while來連續對話，並且使用if條件式來判斷該執行哪個工作!!"
   ]
  },
  {
   "cell_type": "code",
   "execution_count": null,
   "metadata": {},
   "outputs": [],
   "source": [
    "import json\n",
    "import re\n",
    "\n",
    "def get_json(r):  \n",
    "    r = re.sub(r'```json|```', '', r) # 因為他有機會給出 ```json 或是 ``` 的markdown語法標記，所以要把他去掉，但這個我們沒教過。\n",
    "    data = json.loads(r)\n",
    "    return data\n",
    "\n",
    "\n",
    "while(True):\n",
    "    msg = input(\"User:\")\n",
    "    response = chat.send_message(f'{msg}').text\n",
    "    print(\"result:\", response)\n",
    "    print(\"AI:\")\n",
    "    obj = get_json(response)\n",
    "    print(obj)\n",
    "    if(obj[\"1\"] == True):\n",
    "        surprise()\n",
    "    if(obj[\"2\"]==True):\n",
    "        happy()\n",
    "    if(obj[\"3\"]==True):\n",
    "        sad()\n",
    "    if(obj[\"4\"]==True):\n",
    "        angry()\n",
    "    if(obj[\"5\"]==True):\n",
    "        fear()\n",
    "    \n"
   ]
  },
  {
   "cell_type": "code",
   "execution_count": null,
   "metadata": {},
   "outputs": [],
   "source": []
  }
 ],
 "metadata": {
  "kernelspec": {
   "display_name": "mcsh_course",
   "language": "python",
   "name": "python3"
  },
  "language_info": {
   "codemirror_mode": {
    "name": "ipython",
    "version": 3
   },
   "file_extension": ".py",
   "mimetype": "text/x-python",
   "name": "python",
   "nbconvert_exporter": "python",
   "pygments_lexer": "ipython3",
   "version": "3.12.7"
  }
 },
 "nbformat": 4,
 "nbformat_minor": 2
}
